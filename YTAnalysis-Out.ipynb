{
 "cells": [
  {
   "cell_type": "code",
   "execution_count": 1,
   "metadata": {
    "execution": {
     "iopub.execute_input": "2020-04-12T02:35:52.158804Z",
     "iopub.status.busy": "2020-04-12T02:35:52.157060Z",
     "iopub.status.idle": "2020-04-12T02:35:53.009395Z",
     "shell.execute_reply": "2020-04-12T02:35:53.010317Z"
    },
    "papermill": {
     "duration": 0.88889,
     "end_time": "2020-04-12T02:35:53.010506",
     "exception": false,
     "start_time": "2020-04-12T02:35:52.121616",
     "status": "completed"
    },
    "tags": []
   },
   "outputs": [],
   "source": [
    "import pandas as pd\n",
    "import numpy as np\n",
    "from datetime import date\n",
    "import calendar\n",
    "import json\n",
    "import matplotlib.pyplot as plt"
   ]
  },
  {
   "cell_type": "code",
   "execution_count": 2,
   "metadata": {
    "execution": {
     "iopub.execute_input": "2020-04-12T02:35:53.060871Z",
     "iopub.status.busy": "2020-04-12T02:35:53.059637Z",
     "iopub.status.idle": "2020-04-12T02:35:53.061988Z",
     "shell.execute_reply": "2020-04-12T02:35:53.062809Z"
    },
    "papermill": {
     "duration": 0.031385,
     "end_time": "2020-04-12T02:35:53.062953",
     "exception": false,
     "start_time": "2020-04-12T02:35:53.031568",
     "status": "completed"
    },
    "tags": [
     "parameters"
    ]
   },
   "outputs": [],
   "source": [
    "root_path = '/Users/amishra/DEV/DataEngineering.Labs.AirflowProject/DataEngg-Airflow/'"
   ]
  },
  {
   "cell_type": "code",
   "execution_count": 3,
   "metadata": {
    "execution": {
     "iopub.execute_input": "2020-04-12T02:35:53.107948Z",
     "iopub.status.busy": "2020-04-12T02:35:53.106555Z",
     "iopub.status.idle": "2020-04-12T02:35:53.109210Z",
     "shell.execute_reply": "2020-04-12T02:35:53.110182Z"
    },
    "papermill": {
     "duration": 0.027309,
     "end_time": "2020-04-12T02:35:53.110337",
     "exception": false,
     "start_time": "2020-04-12T02:35:53.083028",
     "status": "completed"
    },
    "tags": [
     "injected-parameters"
    ]
   },
   "outputs": [],
   "source": [
    "# Parameters\n",
    "root_path = \"/Users/amishra/DEV/DataEngineering.Labs.AirflowProject/DataEngg-Airflow/\"\n"
   ]
  },
  {
   "cell_type": "code",
   "execution_count": 4,
   "metadata": {
    "execution": {
     "iopub.execute_input": "2020-04-12T02:35:53.160189Z",
     "iopub.status.busy": "2020-04-12T02:35:53.158697Z",
     "iopub.status.idle": "2020-04-12T02:35:53.161300Z",
     "shell.execute_reply": "2020-04-12T02:35:53.162116Z"
    },
    "papermill": {
     "duration": 0.029167,
     "end_time": "2020-04-12T02:35:53.162277",
     "exception": false,
     "start_time": "2020-04-12T02:35:53.133110",
     "status": "completed"
    },
    "tags": []
   },
   "outputs": [],
   "source": [
    "raw_file_path = root_path + 'raw/'\n",
    "date_formatted = str(date.today().strftime(\"%Y%m%d\"))"
   ]
  },
  {
   "cell_type": "code",
   "execution_count": 5,
   "metadata": {
    "execution": {
     "iopub.execute_input": "2020-04-12T02:35:53.225311Z",
     "iopub.status.busy": "2020-04-12T02:35:53.223204Z",
     "iopub.status.idle": "2020-04-12T02:35:53.226747Z",
     "shell.execute_reply": "2020-04-12T02:35:53.228088Z"
    },
    "papermill": {
     "duration": 0.036724,
     "end_time": "2020-04-12T02:35:53.228380",
     "exception": false,
     "start_time": "2020-04-12T02:35:53.191656",
     "status": "completed"
    },
    "tags": []
   },
   "outputs": [],
   "source": [
    "raw_fileIN = raw_file_path + 'INvideos.csv'\n",
    "raw_fileUS = raw_file_path + 'USvideos.csv'\n",
    "raw_fileCA = raw_file_path + 'CAvideos.csv'\n",
    "raw_fileFR = raw_file_path + 'FRvideos.csv'\n",
    "raw_fileDE = raw_file_path + 'DEvideos.csv'\n",
    "raw_fileGB = raw_file_path + 'GBvideos.csv'\n"
   ]
  },
  {
   "cell_type": "code",
   "execution_count": 6,
   "metadata": {
    "execution": {
     "iopub.execute_input": "2020-04-12T02:35:53.295996Z",
     "iopub.status.busy": "2020-04-12T02:35:53.293338Z",
     "iopub.status.idle": "2020-04-12T02:35:57.365610Z",
     "shell.execute_reply": "2020-04-12T02:35:57.366620Z"
    },
    "papermill": {
     "duration": 4.100898,
     "end_time": "2020-04-12T02:35:57.366818",
     "exception": false,
     "start_time": "2020-04-12T02:35:53.265920",
     "status": "completed"
    },
    "tags": []
   },
   "outputs": [],
   "source": [
    "df_IN = pd.read_csv(raw_fileIN)\n",
    "df_US = pd.read_csv(raw_fileUS)\n",
    "df_CA = pd.read_csv(raw_fileCA)\n",
    "df_FR = pd.read_csv(raw_fileFR)\n",
    "df_DE = pd.read_csv(raw_fileDE)\n",
    "df_GB = pd.read_csv(raw_fileGB)"
   ]
  },
  {
   "cell_type": "code",
   "execution_count": 7,
   "metadata": {
    "execution": {
     "iopub.execute_input": "2020-04-12T02:35:57.424837Z",
     "iopub.status.busy": "2020-04-12T02:35:57.422953Z",
     "iopub.status.idle": "2020-04-12T02:35:57.430805Z",
     "shell.execute_reply": "2020-04-12T02:35:57.432410Z"
    },
    "papermill": {
     "duration": 0.04538,
     "end_time": "2020-04-12T02:35:57.432648",
     "exception": false,
     "start_time": "2020-04-12T02:35:57.387268",
     "status": "completed"
    },
    "tags": []
   },
   "outputs": [],
   "source": [
    "#Adding Month column"
   ]
  },
  {
   "cell_type": "code",
   "execution_count": 8,
   "metadata": {
    "execution": {
     "iopub.execute_input": "2020-04-12T02:35:57.508800Z",
     "iopub.status.busy": "2020-04-12T02:35:57.499486Z",
     "iopub.status.idle": "2020-04-12T02:36:04.867865Z",
     "shell.execute_reply": "2020-04-12T02:36:04.868831Z"
    },
    "papermill": {
     "duration": 7.401299,
     "end_time": "2020-04-12T02:36:04.869086",
     "exception": false,
     "start_time": "2020-04-12T02:35:57.467787",
     "status": "completed"
    },
    "tags": []
   },
   "outputs": [],
   "source": [
    "df_IN['month'] = df_IN.apply(lambda row: calendar.month_name[int(row.trending_date.split(\".\")[2])], axis=1)\n",
    "df_US['month'] = df_US.apply(lambda row: calendar.month_name[int(row.trending_date.split(\".\")[2])], axis=1)\n",
    "df_CA['month'] = df_CA.apply(lambda row: calendar.month_name[int(row.trending_date.split(\".\")[2])], axis=1)\n",
    "df_FR['month'] = df_FR.apply(lambda row: calendar.month_name[int(row.trending_date.split(\".\")[2])], axis=1)\n",
    "df_DE['month'] = df_DE.apply(lambda row: calendar.month_name[int(row.trending_date.split(\".\")[2])], axis=1)\n",
    "df_GB['month'] = df_GB.apply(lambda row: calendar.month_name[int(row.trending_date.split(\".\")[2])], axis=1)"
   ]
  },
  {
   "cell_type": "code",
   "execution_count": 9,
   "metadata": {
    "execution": {
     "iopub.execute_input": "2020-04-12T02:36:04.950843Z",
     "iopub.status.busy": "2020-04-12T02:36:04.949143Z",
     "iopub.status.idle": "2020-04-12T02:36:04.956707Z",
     "shell.execute_reply": "2020-04-12T02:36:04.958320Z"
    },
    "papermill": {
     "duration": 0.052637,
     "end_time": "2020-04-12T02:36:04.958550",
     "exception": false,
     "start_time": "2020-04-12T02:36:04.905913",
     "status": "completed"
    },
    "tags": []
   },
   "outputs": [],
   "source": [
    "\n",
    "    country_list = ['IN', 'US', 'CA', 'FR', 'DE', 'GB']\n",
    "    for i in country_list:\n",
    "        with open(raw_file_path + i + '_category_id.json') as f:\n",
    "            data = json.load(f)\n",
    "\n",
    "    category_list = list()\n",
    "    for c in data['items']:\n",
    "        category_list.append([c['id'],c['snippet']['title']])\n"
   ]
  },
  {
   "cell_type": "code",
   "execution_count": 10,
   "metadata": {
    "execution": {
     "iopub.execute_input": "2020-04-12T02:36:05.027498Z",
     "iopub.status.busy": "2020-04-12T02:36:05.025559Z",
     "iopub.status.idle": "2020-04-12T02:36:05.029644Z",
     "shell.execute_reply": "2020-04-12T02:36:05.031163Z"
    },
    "papermill": {
     "duration": 0.046088,
     "end_time": "2020-04-12T02:36:05.031412",
     "exception": false,
     "start_time": "2020-04-12T02:36:04.985324",
     "status": "completed"
    },
    "tags": []
   },
   "outputs": [],
   "source": [
    "df_categoryList = pd.DataFrame(category_list, columns = ['category_id', 'category_title'])\n",
    "df_categoryList\n",
    "df_categoryList_asint = df_categoryList.astype({'category_id': int})"
   ]
  },
  {
   "cell_type": "code",
   "execution_count": 11,
   "metadata": {
    "execution": {
     "iopub.execute_input": "2020-04-12T02:36:05.101582Z",
     "iopub.status.busy": "2020-04-12T02:36:05.099831Z",
     "iopub.status.idle": "2020-04-12T02:36:06.387292Z",
     "shell.execute_reply": "2020-04-12T02:36:06.388239Z"
    },
    "papermill": {
     "duration": 1.321791,
     "end_time": "2020-04-12T02:36:06.388403",
     "exception": false,
     "start_time": "2020-04-12T02:36:05.066612",
     "status": "completed"
    },
    "tags": []
   },
   "outputs": [
    {
     "data": {
      "text/html": [
       "<div>\n",
       "<style scoped>\n",
       "    .dataframe tbody tr th:only-of-type {\n",
       "        vertical-align: middle;\n",
       "    }\n",
       "\n",
       "    .dataframe tbody tr th {\n",
       "        vertical-align: top;\n",
       "    }\n",
       "\n",
       "    .dataframe thead th {\n",
       "        text-align: right;\n",
       "    }\n",
       "</style>\n",
       "<table border=\"1\" class=\"dataframe\">\n",
       "  <thead>\n",
       "    <tr style=\"text-align: right;\">\n",
       "      <th></th>\n",
       "      <th>month</th>\n",
       "      <th>category_id</th>\n",
       "      <th>views</th>\n",
       "      <th>likes</th>\n",
       "      <th>dislikes</th>\n",
       "      <th>comment_count</th>\n",
       "      <th>country</th>\n",
       "    </tr>\n",
       "  </thead>\n",
       "  <tbody>\n",
       "    <tr>\n",
       "      <th>0</th>\n",
       "      <td>November</td>\n",
       "      <td>1</td>\n",
       "      <td>1096327</td>\n",
       "      <td>33966</td>\n",
       "      <td>798</td>\n",
       "      <td>882</td>\n",
       "      <td>India</td>\n",
       "    </tr>\n",
       "    <tr>\n",
       "      <th>1</th>\n",
       "      <td>November</td>\n",
       "      <td>25</td>\n",
       "      <td>590101</td>\n",
       "      <td>735</td>\n",
       "      <td>904</td>\n",
       "      <td>0</td>\n",
       "      <td>India</td>\n",
       "    </tr>\n",
       "    <tr>\n",
       "      <th>2</th>\n",
       "      <td>November</td>\n",
       "      <td>24</td>\n",
       "      <td>473988</td>\n",
       "      <td>2011</td>\n",
       "      <td>243</td>\n",
       "      <td>149</td>\n",
       "      <td>India</td>\n",
       "    </tr>\n",
       "    <tr>\n",
       "      <th>3</th>\n",
       "      <td>November</td>\n",
       "      <td>23</td>\n",
       "      <td>1242680</td>\n",
       "      <td>70353</td>\n",
       "      <td>1624</td>\n",
       "      <td>2684</td>\n",
       "      <td>India</td>\n",
       "    </tr>\n",
       "    <tr>\n",
       "      <th>4</th>\n",
       "      <td>November</td>\n",
       "      <td>24</td>\n",
       "      <td>464015</td>\n",
       "      <td>492</td>\n",
       "      <td>293</td>\n",
       "      <td>66</td>\n",
       "      <td>India</td>\n",
       "    </tr>\n",
       "    <tr>\n",
       "      <th>...</th>\n",
       "      <td>...</td>\n",
       "      <td>...</td>\n",
       "      <td>...</td>\n",
       "      <td>...</td>\n",
       "      <td>...</td>\n",
       "      <td>...</td>\n",
       "      <td>...</td>\n",
       "    </tr>\n",
       "    <tr>\n",
       "      <th>37347</th>\n",
       "      <td>June</td>\n",
       "      <td>23</td>\n",
       "      <td>214378</td>\n",
       "      <td>3291</td>\n",
       "      <td>404</td>\n",
       "      <td>196</td>\n",
       "      <td>India</td>\n",
       "    </tr>\n",
       "    <tr>\n",
       "      <th>37348</th>\n",
       "      <td>June</td>\n",
       "      <td>24</td>\n",
       "      <td>406828</td>\n",
       "      <td>1726</td>\n",
       "      <td>478</td>\n",
       "      <td>1428</td>\n",
       "      <td>India</td>\n",
       "    </tr>\n",
       "    <tr>\n",
       "      <th>37349</th>\n",
       "      <td>June</td>\n",
       "      <td>24</td>\n",
       "      <td>386319</td>\n",
       "      <td>1216</td>\n",
       "      <td>453</td>\n",
       "      <td>697</td>\n",
       "      <td>India</td>\n",
       "    </tr>\n",
       "    <tr>\n",
       "      <th>37350</th>\n",
       "      <td>June</td>\n",
       "      <td>24</td>\n",
       "      <td>130263</td>\n",
       "      <td>698</td>\n",
       "      <td>115</td>\n",
       "      <td>65</td>\n",
       "      <td>India</td>\n",
       "    </tr>\n",
       "    <tr>\n",
       "      <th>37351</th>\n",
       "      <td>June</td>\n",
       "      <td>24</td>\n",
       "      <td>1278249</td>\n",
       "      <td>22466</td>\n",
       "      <td>1609</td>\n",
       "      <td>1205</td>\n",
       "      <td>India</td>\n",
       "    </tr>\n",
       "  </tbody>\n",
       "</table>\n",
       "<p>37352 rows × 7 columns</p>\n",
       "</div>"
      ],
      "text/plain": [
       "          month  category_id    views  likes  dislikes  comment_count country\n",
       "0      November            1  1096327  33966       798            882   India\n",
       "1      November           25   590101    735       904              0   India\n",
       "2      November           24   473988   2011       243            149   India\n",
       "3      November           23  1242680  70353      1624           2684   India\n",
       "4      November           24   464015    492       293             66   India\n",
       "...         ...          ...      ...    ...       ...            ...     ...\n",
       "37347      June           23   214378   3291       404            196   India\n",
       "37348      June           24   406828   1726       478           1428   India\n",
       "37349      June           24   386319   1216       453            697   India\n",
       "37350      June           24   130263    698       115             65   India\n",
       "37351      June           24  1278249  22466      1609           1205   India\n",
       "\n",
       "[37352 rows x 7 columns]"
      ]
     },
     "execution_count": 11,
     "metadata": {},
     "output_type": "execute_result"
    }
   ],
   "source": [
    "df_IN['month'] = df_IN.apply(lambda row: calendar.month_name[int(row.trending_date.split(\".\")[2])], axis=1)\n",
    "df_IN['country'] = 'India'\n",
    "df_IN1 = df_IN[['month', 'category_id', 'views', 'likes', 'dislikes', 'comment_count', 'country']]\n",
    "df_IN1"
   ]
  },
  {
   "cell_type": "code",
   "execution_count": 12,
   "metadata": {
    "execution": {
     "iopub.execute_input": "2020-04-12T02:36:06.451980Z",
     "iopub.status.busy": "2020-04-12T02:36:06.450064Z",
     "iopub.status.idle": "2020-04-12T02:36:06.485648Z",
     "shell.execute_reply": "2020-04-12T02:36:06.487257Z"
    },
    "papermill": {
     "duration": 0.07514,
     "end_time": "2020-04-12T02:36:06.487508",
     "exception": false,
     "start_time": "2020-04-12T02:36:06.412368",
     "status": "completed"
    },
    "tags": []
   },
   "outputs": [
    {
     "data": {
      "text/html": [
       "<div>\n",
       "<style scoped>\n",
       "    .dataframe tbody tr th:only-of-type {\n",
       "        vertical-align: middle;\n",
       "    }\n",
       "\n",
       "    .dataframe tbody tr th {\n",
       "        vertical-align: top;\n",
       "    }\n",
       "\n",
       "    .dataframe thead th {\n",
       "        text-align: right;\n",
       "    }\n",
       "</style>\n",
       "<table border=\"1\" class=\"dataframe\">\n",
       "  <thead>\n",
       "    <tr style=\"text-align: right;\">\n",
       "      <th></th>\n",
       "      <th>category_id</th>\n",
       "      <th>category_title</th>\n",
       "      <th>month</th>\n",
       "      <th>views</th>\n",
       "      <th>likes</th>\n",
       "      <th>dislikes</th>\n",
       "      <th>comment_count</th>\n",
       "      <th>country</th>\n",
       "    </tr>\n",
       "  </thead>\n",
       "  <tbody>\n",
       "    <tr>\n",
       "      <th>0</th>\n",
       "      <td>1</td>\n",
       "      <td>Film &amp; Animation</td>\n",
       "      <td>November</td>\n",
       "      <td>1096327</td>\n",
       "      <td>33966</td>\n",
       "      <td>798</td>\n",
       "      <td>882</td>\n",
       "      <td>India</td>\n",
       "    </tr>\n",
       "    <tr>\n",
       "      <th>1</th>\n",
       "      <td>1</td>\n",
       "      <td>Film &amp; Animation</td>\n",
       "      <td>November</td>\n",
       "      <td>35885754</td>\n",
       "      <td>829362</td>\n",
       "      <td>61195</td>\n",
       "      <td>101117</td>\n",
       "      <td>India</td>\n",
       "    </tr>\n",
       "    <tr>\n",
       "      <th>2</th>\n",
       "      <td>1</td>\n",
       "      <td>Film &amp; Animation</td>\n",
       "      <td>November</td>\n",
       "      <td>249423</td>\n",
       "      <td>7861</td>\n",
       "      <td>68</td>\n",
       "      <td>364</td>\n",
       "      <td>India</td>\n",
       "    </tr>\n",
       "    <tr>\n",
       "      <th>3</th>\n",
       "      <td>1</td>\n",
       "      <td>Film &amp; Animation</td>\n",
       "      <td>November</td>\n",
       "      <td>696515</td>\n",
       "      <td>12397</td>\n",
       "      <td>449</td>\n",
       "      <td>385</td>\n",
       "      <td>India</td>\n",
       "    </tr>\n",
       "    <tr>\n",
       "      <th>4</th>\n",
       "      <td>1</td>\n",
       "      <td>Film &amp; Animation</td>\n",
       "      <td>November</td>\n",
       "      <td>269593</td>\n",
       "      <td>3931</td>\n",
       "      <td>390</td>\n",
       "      <td>640</td>\n",
       "      <td>India</td>\n",
       "    </tr>\n",
       "    <tr>\n",
       "      <th>...</th>\n",
       "      <td>...</td>\n",
       "      <td>...</td>\n",
       "      <td>...</td>\n",
       "      <td>...</td>\n",
       "      <td>...</td>\n",
       "      <td>...</td>\n",
       "      <td>...</td>\n",
       "      <td>...</td>\n",
       "    </tr>\n",
       "    <tr>\n",
       "      <th>37242</th>\n",
       "      <td>43</td>\n",
       "      <td>Shows</td>\n",
       "      <td>June</td>\n",
       "      <td>613807</td>\n",
       "      <td>4058</td>\n",
       "      <td>1084</td>\n",
       "      <td>666</td>\n",
       "      <td>India</td>\n",
       "    </tr>\n",
       "    <tr>\n",
       "      <th>37243</th>\n",
       "      <td>43</td>\n",
       "      <td>Shows</td>\n",
       "      <td>June</td>\n",
       "      <td>974503</td>\n",
       "      <td>4912</td>\n",
       "      <td>1361</td>\n",
       "      <td>778</td>\n",
       "      <td>India</td>\n",
       "    </tr>\n",
       "    <tr>\n",
       "      <th>37244</th>\n",
       "      <td>43</td>\n",
       "      <td>Shows</td>\n",
       "      <td>June</td>\n",
       "      <td>974503</td>\n",
       "      <td>4912</td>\n",
       "      <td>1361</td>\n",
       "      <td>778</td>\n",
       "      <td>India</td>\n",
       "    </tr>\n",
       "    <tr>\n",
       "      <th>37245</th>\n",
       "      <td>43</td>\n",
       "      <td>Shows</td>\n",
       "      <td>June</td>\n",
       "      <td>535254</td>\n",
       "      <td>3105</td>\n",
       "      <td>1403</td>\n",
       "      <td>898</td>\n",
       "      <td>India</td>\n",
       "    </tr>\n",
       "    <tr>\n",
       "      <th>37246</th>\n",
       "      <td>43</td>\n",
       "      <td>Shows</td>\n",
       "      <td>June</td>\n",
       "      <td>535254</td>\n",
       "      <td>3105</td>\n",
       "      <td>1403</td>\n",
       "      <td>898</td>\n",
       "      <td>India</td>\n",
       "    </tr>\n",
       "  </tbody>\n",
       "</table>\n",
       "<p>37247 rows × 8 columns</p>\n",
       "</div>"
      ],
      "text/plain": [
       "       category_id    category_title     month     views   likes  dislikes  \\\n",
       "0                1  Film & Animation  November   1096327   33966       798   \n",
       "1                1  Film & Animation  November  35885754  829362     61195   \n",
       "2                1  Film & Animation  November    249423    7861        68   \n",
       "3                1  Film & Animation  November    696515   12397       449   \n",
       "4                1  Film & Animation  November    269593    3931       390   \n",
       "...            ...               ...       ...       ...     ...       ...   \n",
       "37242           43             Shows      June    613807    4058      1084   \n",
       "37243           43             Shows      June    974503    4912      1361   \n",
       "37244           43             Shows      June    974503    4912      1361   \n",
       "37245           43             Shows      June    535254    3105      1403   \n",
       "37246           43             Shows      June    535254    3105      1403   \n",
       "\n",
       "       comment_count country  \n",
       "0                882   India  \n",
       "1             101117   India  \n",
       "2                364   India  \n",
       "3                385   India  \n",
       "4                640   India  \n",
       "...              ...     ...  \n",
       "37242            666   India  \n",
       "37243            778   India  \n",
       "37244            778   India  \n",
       "37245            898   India  \n",
       "37246            898   India  \n",
       "\n",
       "[37247 rows x 8 columns]"
      ]
     },
     "execution_count": 12,
     "metadata": {},
     "output_type": "execute_result"
    }
   ],
   "source": [
    "df_merge_categoryIN = pd.merge(df_categoryList_asint, df_IN1, on='category_id')\n",
    "df_merge_categoryIN"
   ]
  },
  {
   "cell_type": "code",
   "execution_count": null,
   "metadata": {
    "papermill": {
     "duration": 0.020819,
     "end_time": "2020-04-12T02:36:06.539546",
     "exception": false,
     "start_time": "2020-04-12T02:36:06.518727",
     "status": "completed"
    },
    "tags": []
   },
   "outputs": [],
   "source": []
  },
  {
   "cell_type": "code",
   "execution_count": 13,
   "metadata": {
    "execution": {
     "iopub.execute_input": "2020-04-12T02:36:06.590991Z",
     "iopub.status.busy": "2020-04-12T02:36:06.589785Z",
     "iopub.status.idle": "2020-04-12T02:36:07.875433Z",
     "shell.execute_reply": "2020-04-12T02:36:07.874312Z"
    },
    "papermill": {
     "duration": 1.312314,
     "end_time": "2020-04-12T02:36:07.875568",
     "exception": false,
     "start_time": "2020-04-12T02:36:06.563254",
     "status": "completed"
    },
    "tags": []
   },
   "outputs": [],
   "source": [
    "df_US['month'] = df_US.apply(lambda row: calendar.month_name[int(row.trending_date.split(\".\")[2])], axis=1)\n",
    "df_US['country'] = 'United States'\n",
    "df_US1 = df_US[['month', 'category_id', 'views', 'likes', 'dislikes', 'comment_count', 'country']]"
   ]
  },
  {
   "cell_type": "code",
   "execution_count": 14,
   "metadata": {
    "execution": {
     "iopub.execute_input": "2020-04-12T02:36:07.924547Z",
     "iopub.status.busy": "2020-04-12T02:36:07.923418Z",
     "iopub.status.idle": "2020-04-12T02:36:07.950205Z",
     "shell.execute_reply": "2020-04-12T02:36:07.951115Z"
    },
    "papermill": {
     "duration": 0.05304,
     "end_time": "2020-04-12T02:36:07.951268",
     "exception": false,
     "start_time": "2020-04-12T02:36:07.898228",
     "status": "completed"
    },
    "tags": []
   },
   "outputs": [
    {
     "data": {
      "text/html": [
       "<div>\n",
       "<style scoped>\n",
       "    .dataframe tbody tr th:only-of-type {\n",
       "        vertical-align: middle;\n",
       "    }\n",
       "\n",
       "    .dataframe tbody tr th {\n",
       "        vertical-align: top;\n",
       "    }\n",
       "\n",
       "    .dataframe thead th {\n",
       "        text-align: right;\n",
       "    }\n",
       "</style>\n",
       "<table border=\"1\" class=\"dataframe\">\n",
       "  <thead>\n",
       "    <tr style=\"text-align: right;\">\n",
       "      <th></th>\n",
       "      <th>category_id</th>\n",
       "      <th>category_title</th>\n",
       "      <th>month</th>\n",
       "      <th>views</th>\n",
       "      <th>likes</th>\n",
       "      <th>dislikes</th>\n",
       "      <th>comment_count</th>\n",
       "      <th>country</th>\n",
       "    </tr>\n",
       "  </thead>\n",
       "  <tbody>\n",
       "    <tr>\n",
       "      <th>0</th>\n",
       "      <td>1</td>\n",
       "      <td>Film &amp; Animation</td>\n",
       "      <td>November</td>\n",
       "      <td>826059</td>\n",
       "      <td>3543</td>\n",
       "      <td>119</td>\n",
       "      <td>340</td>\n",
       "      <td>United States</td>\n",
       "    </tr>\n",
       "    <tr>\n",
       "      <th>1</th>\n",
       "      <td>1</td>\n",
       "      <td>Film &amp; Animation</td>\n",
       "      <td>November</td>\n",
       "      <td>50867</td>\n",
       "      <td>715</td>\n",
       "      <td>238</td>\n",
       "      <td>246</td>\n",
       "      <td>United States</td>\n",
       "    </tr>\n",
       "    <tr>\n",
       "      <th>2</th>\n",
       "      <td>1</td>\n",
       "      <td>Film &amp; Animation</td>\n",
       "      <td>November</td>\n",
       "      <td>288922</td>\n",
       "      <td>7515</td>\n",
       "      <td>792</td>\n",
       "      <td>2111</td>\n",
       "      <td>United States</td>\n",
       "    </tr>\n",
       "    <tr>\n",
       "      <th>3</th>\n",
       "      <td>1</td>\n",
       "      <td>Film &amp; Animation</td>\n",
       "      <td>November</td>\n",
       "      <td>52591</td>\n",
       "      <td>2233</td>\n",
       "      <td>187</td>\n",
       "      <td>255</td>\n",
       "      <td>United States</td>\n",
       "    </tr>\n",
       "    <tr>\n",
       "      <th>4</th>\n",
       "      <td>1</td>\n",
       "      <td>Film &amp; Animation</td>\n",
       "      <td>November</td>\n",
       "      <td>1751064</td>\n",
       "      <td>16430</td>\n",
       "      <td>945</td>\n",
       "      <td>1231</td>\n",
       "      <td>United States</td>\n",
       "    </tr>\n",
       "    <tr>\n",
       "      <th>...</th>\n",
       "      <td>...</td>\n",
       "      <td>...</td>\n",
       "      <td>...</td>\n",
       "      <td>...</td>\n",
       "      <td>...</td>\n",
       "      <td>...</td>\n",
       "      <td>...</td>\n",
       "      <td>...</td>\n",
       "    </tr>\n",
       "    <tr>\n",
       "      <th>40887</th>\n",
       "      <td>43</td>\n",
       "      <td>Shows</td>\n",
       "      <td>June</td>\n",
       "      <td>1324482</td>\n",
       "      <td>22413</td>\n",
       "      <td>608</td>\n",
       "      <td>1644</td>\n",
       "      <td>United States</td>\n",
       "    </tr>\n",
       "    <tr>\n",
       "      <th>40888</th>\n",
       "      <td>43</td>\n",
       "      <td>Shows</td>\n",
       "      <td>June</td>\n",
       "      <td>1332252</td>\n",
       "      <td>22461</td>\n",
       "      <td>610</td>\n",
       "      <td>1648</td>\n",
       "      <td>United States</td>\n",
       "    </tr>\n",
       "    <tr>\n",
       "      <th>40889</th>\n",
       "      <td>43</td>\n",
       "      <td>Shows</td>\n",
       "      <td>June</td>\n",
       "      <td>1340039</td>\n",
       "      <td>22504</td>\n",
       "      <td>615</td>\n",
       "      <td>1648</td>\n",
       "      <td>United States</td>\n",
       "    </tr>\n",
       "    <tr>\n",
       "      <th>40890</th>\n",
       "      <td>43</td>\n",
       "      <td>Shows</td>\n",
       "      <td>June</td>\n",
       "      <td>1345086</td>\n",
       "      <td>22542</td>\n",
       "      <td>615</td>\n",
       "      <td>1649</td>\n",
       "      <td>United States</td>\n",
       "    </tr>\n",
       "    <tr>\n",
       "      <th>40891</th>\n",
       "      <td>43</td>\n",
       "      <td>Shows</td>\n",
       "      <td>June</td>\n",
       "      <td>1351321</td>\n",
       "      <td>22587</td>\n",
       "      <td>616</td>\n",
       "      <td>1649</td>\n",
       "      <td>United States</td>\n",
       "    </tr>\n",
       "  </tbody>\n",
       "</table>\n",
       "<p>40892 rows × 8 columns</p>\n",
       "</div>"
      ],
      "text/plain": [
       "       category_id    category_title     month    views  likes  dislikes  \\\n",
       "0                1  Film & Animation  November   826059   3543       119   \n",
       "1                1  Film & Animation  November    50867    715       238   \n",
       "2                1  Film & Animation  November   288922   7515       792   \n",
       "3                1  Film & Animation  November    52591   2233       187   \n",
       "4                1  Film & Animation  November  1751064  16430       945   \n",
       "...            ...               ...       ...      ...    ...       ...   \n",
       "40887           43             Shows      June  1324482  22413       608   \n",
       "40888           43             Shows      June  1332252  22461       610   \n",
       "40889           43             Shows      June  1340039  22504       615   \n",
       "40890           43             Shows      June  1345086  22542       615   \n",
       "40891           43             Shows      June  1351321  22587       616   \n",
       "\n",
       "       comment_count        country  \n",
       "0                340  United States  \n",
       "1                246  United States  \n",
       "2               2111  United States  \n",
       "3                255  United States  \n",
       "4               1231  United States  \n",
       "...              ...            ...  \n",
       "40887           1644  United States  \n",
       "40888           1648  United States  \n",
       "40889           1648  United States  \n",
       "40890           1649  United States  \n",
       "40891           1649  United States  \n",
       "\n",
       "[40892 rows x 8 columns]"
      ]
     },
     "execution_count": 14,
     "metadata": {},
     "output_type": "execute_result"
    }
   ],
   "source": [
    "df_merge_categoryUS = pd.merge(df_categoryList_asint, df_US1, on='category_id')\n",
    "df_merge_categoryUS"
   ]
  },
  {
   "cell_type": "code",
   "execution_count": 15,
   "metadata": {
    "execution": {
     "iopub.execute_input": "2020-04-12T02:36:08.001585Z",
     "iopub.status.busy": "2020-04-12T02:36:08.000429Z",
     "iopub.status.idle": "2020-04-12T02:36:09.247820Z",
     "shell.execute_reply": "2020-04-12T02:36:09.248748Z"
    },
    "papermill": {
     "duration": 1.275873,
     "end_time": "2020-04-12T02:36:09.248913",
     "exception": false,
     "start_time": "2020-04-12T02:36:07.973040",
     "status": "completed"
    },
    "tags": []
   },
   "outputs": [],
   "source": [
    "df_CA['month'] = df_CA.apply(lambda row: calendar.month_name[int(row.trending_date.split(\".\")[2])], axis=1)\n",
    "df_CA['country'] = 'Canada'\n",
    "df_CA1 = df_CA[['month', 'category_id', 'views', 'likes', 'dislikes', 'comment_count', 'country']]"
   ]
  },
  {
   "cell_type": "code",
   "execution_count": 16,
   "metadata": {
    "execution": {
     "iopub.execute_input": "2020-04-12T02:36:09.297751Z",
     "iopub.status.busy": "2020-04-12T02:36:09.295803Z",
     "iopub.status.idle": "2020-04-12T02:36:09.319776Z",
     "shell.execute_reply": "2020-04-12T02:36:09.320752Z"
    },
    "papermill": {
     "duration": 0.050406,
     "end_time": "2020-04-12T02:36:09.320929",
     "exception": false,
     "start_time": "2020-04-12T02:36:09.270523",
     "status": "completed"
    },
    "tags": []
   },
   "outputs": [
    {
     "data": {
      "text/html": [
       "<div>\n",
       "<style scoped>\n",
       "    .dataframe tbody tr th:only-of-type {\n",
       "        vertical-align: middle;\n",
       "    }\n",
       "\n",
       "    .dataframe tbody tr th {\n",
       "        vertical-align: top;\n",
       "    }\n",
       "\n",
       "    .dataframe thead th {\n",
       "        text-align: right;\n",
       "    }\n",
       "</style>\n",
       "<table border=\"1\" class=\"dataframe\">\n",
       "  <thead>\n",
       "    <tr style=\"text-align: right;\">\n",
       "      <th></th>\n",
       "      <th>category_id</th>\n",
       "      <th>category_title</th>\n",
       "      <th>month</th>\n",
       "      <th>views</th>\n",
       "      <th>likes</th>\n",
       "      <th>dislikes</th>\n",
       "      <th>comment_count</th>\n",
       "      <th>country</th>\n",
       "    </tr>\n",
       "  </thead>\n",
       "  <tbody>\n",
       "    <tr>\n",
       "      <th>0</th>\n",
       "      <td>1</td>\n",
       "      <td>Film &amp; Animation</td>\n",
       "      <td>November</td>\n",
       "      <td>158815</td>\n",
       "      <td>218</td>\n",
       "      <td>30</td>\n",
       "      <td>186</td>\n",
       "      <td>Canada</td>\n",
       "    </tr>\n",
       "    <tr>\n",
       "      <th>1</th>\n",
       "      <td>1</td>\n",
       "      <td>Film &amp; Animation</td>\n",
       "      <td>November</td>\n",
       "      <td>308568</td>\n",
       "      <td>19541</td>\n",
       "      <td>70</td>\n",
       "      <td>495</td>\n",
       "      <td>Canada</td>\n",
       "    </tr>\n",
       "    <tr>\n",
       "      <th>2</th>\n",
       "      <td>1</td>\n",
       "      <td>Film &amp; Animation</td>\n",
       "      <td>November</td>\n",
       "      <td>1096327</td>\n",
       "      <td>33966</td>\n",
       "      <td>798</td>\n",
       "      <td>882</td>\n",
       "      <td>Canada</td>\n",
       "    </tr>\n",
       "    <tr>\n",
       "      <th>3</th>\n",
       "      <td>1</td>\n",
       "      <td>Film &amp; Animation</td>\n",
       "      <td>November</td>\n",
       "      <td>458964</td>\n",
       "      <td>4903</td>\n",
       "      <td>392</td>\n",
       "      <td>1289</td>\n",
       "      <td>Canada</td>\n",
       "    </tr>\n",
       "    <tr>\n",
       "      <th>4</th>\n",
       "      <td>1</td>\n",
       "      <td>Film &amp; Animation</td>\n",
       "      <td>November</td>\n",
       "      <td>2736733</td>\n",
       "      <td>58967</td>\n",
       "      <td>3492</td>\n",
       "      <td>7915</td>\n",
       "      <td>Canada</td>\n",
       "    </tr>\n",
       "    <tr>\n",
       "      <th>...</th>\n",
       "      <td>...</td>\n",
       "      <td>...</td>\n",
       "      <td>...</td>\n",
       "      <td>...</td>\n",
       "      <td>...</td>\n",
       "      <td>...</td>\n",
       "      <td>...</td>\n",
       "      <td>...</td>\n",
       "    </tr>\n",
       "    <tr>\n",
       "      <th>40802</th>\n",
       "      <td>43</td>\n",
       "      <td>Shows</td>\n",
       "      <td>June</td>\n",
       "      <td>628962</td>\n",
       "      <td>3436</td>\n",
       "      <td>1483</td>\n",
       "      <td>736</td>\n",
       "      <td>Canada</td>\n",
       "    </tr>\n",
       "    <tr>\n",
       "      <th>40803</th>\n",
       "      <td>43</td>\n",
       "      <td>Shows</td>\n",
       "      <td>June</td>\n",
       "      <td>565220</td>\n",
       "      <td>3669</td>\n",
       "      <td>1188</td>\n",
       "      <td>561</td>\n",
       "      <td>Canada</td>\n",
       "    </tr>\n",
       "    <tr>\n",
       "      <th>40804</th>\n",
       "      <td>43</td>\n",
       "      <td>Shows</td>\n",
       "      <td>June</td>\n",
       "      <td>613807</td>\n",
       "      <td>4058</td>\n",
       "      <td>1084</td>\n",
       "      <td>666</td>\n",
       "      <td>Canada</td>\n",
       "    </tr>\n",
       "    <tr>\n",
       "      <th>40805</th>\n",
       "      <td>43</td>\n",
       "      <td>Shows</td>\n",
       "      <td>June</td>\n",
       "      <td>565091</td>\n",
       "      <td>3581</td>\n",
       "      <td>1408</td>\n",
       "      <td>710</td>\n",
       "      <td>Canada</td>\n",
       "    </tr>\n",
       "    <tr>\n",
       "      <th>40806</th>\n",
       "      <td>43</td>\n",
       "      <td>Shows</td>\n",
       "      <td>June</td>\n",
       "      <td>535254</td>\n",
       "      <td>3105</td>\n",
       "      <td>1403</td>\n",
       "      <td>898</td>\n",
       "      <td>Canada</td>\n",
       "    </tr>\n",
       "  </tbody>\n",
       "</table>\n",
       "<p>40807 rows × 8 columns</p>\n",
       "</div>"
      ],
      "text/plain": [
       "       category_id    category_title     month    views  likes  dislikes  \\\n",
       "0                1  Film & Animation  November   158815    218        30   \n",
       "1                1  Film & Animation  November   308568  19541        70   \n",
       "2                1  Film & Animation  November  1096327  33966       798   \n",
       "3                1  Film & Animation  November   458964   4903       392   \n",
       "4                1  Film & Animation  November  2736733  58967      3492   \n",
       "...            ...               ...       ...      ...    ...       ...   \n",
       "40802           43             Shows      June   628962   3436      1483   \n",
       "40803           43             Shows      June   565220   3669      1188   \n",
       "40804           43             Shows      June   613807   4058      1084   \n",
       "40805           43             Shows      June   565091   3581      1408   \n",
       "40806           43             Shows      June   535254   3105      1403   \n",
       "\n",
       "       comment_count country  \n",
       "0                186  Canada  \n",
       "1                495  Canada  \n",
       "2                882  Canada  \n",
       "3               1289  Canada  \n",
       "4               7915  Canada  \n",
       "...              ...     ...  \n",
       "40802            736  Canada  \n",
       "40803            561  Canada  \n",
       "40804            666  Canada  \n",
       "40805            710  Canada  \n",
       "40806            898  Canada  \n",
       "\n",
       "[40807 rows x 8 columns]"
      ]
     },
     "execution_count": 16,
     "metadata": {},
     "output_type": "execute_result"
    }
   ],
   "source": [
    "df_merge_categoryCA = pd.merge(df_categoryList_asint, df_CA1, on='category_id')\n",
    "df_merge_categoryCA"
   ]
  },
  {
   "cell_type": "code",
   "execution_count": 17,
   "metadata": {
    "execution": {
     "iopub.execute_input": "2020-04-12T02:36:09.371581Z",
     "iopub.status.busy": "2020-04-12T02:36:09.369785Z",
     "iopub.status.idle": "2020-04-12T02:36:10.293838Z",
     "shell.execute_reply": "2020-04-12T02:36:10.294967Z"
    },
    "papermill": {
     "duration": 0.953148,
     "end_time": "2020-04-12T02:36:10.295240",
     "exception": false,
     "start_time": "2020-04-12T02:36:09.342092",
     "status": "completed"
    },
    "tags": []
   },
   "outputs": [],
   "source": [
    "df_GB['month'] = df_GB.apply(lambda row: calendar.month_name[int(row.trending_date.split(\".\")[2])], axis=1)\n",
    "df_GB['country'] = 'United Kingdom'\n",
    "df_GB1 = df_GB[['month', 'category_id', 'views', 'likes', 'dislikes', 'comment_count', 'country']]"
   ]
  },
  {
   "cell_type": "code",
   "execution_count": 18,
   "metadata": {
    "execution": {
     "iopub.execute_input": "2020-04-12T02:36:10.398562Z",
     "iopub.status.busy": "2020-04-12T02:36:10.396607Z",
     "iopub.status.idle": "2020-04-12T02:36:10.438498Z",
     "shell.execute_reply": "2020-04-12T02:36:10.439334Z"
    },
    "papermill": {
     "duration": 0.099893,
     "end_time": "2020-04-12T02:36:10.439486",
     "exception": false,
     "start_time": "2020-04-12T02:36:10.339593",
     "status": "completed"
    },
    "tags": []
   },
   "outputs": [
    {
     "data": {
      "text/html": [
       "<div>\n",
       "<style scoped>\n",
       "    .dataframe tbody tr th:only-of-type {\n",
       "        vertical-align: middle;\n",
       "    }\n",
       "\n",
       "    .dataframe tbody tr th {\n",
       "        vertical-align: top;\n",
       "    }\n",
       "\n",
       "    .dataframe thead th {\n",
       "        text-align: right;\n",
       "    }\n",
       "</style>\n",
       "<table border=\"1\" class=\"dataframe\">\n",
       "  <thead>\n",
       "    <tr style=\"text-align: right;\">\n",
       "      <th></th>\n",
       "      <th>category_id</th>\n",
       "      <th>category_title</th>\n",
       "      <th>month</th>\n",
       "      <th>views</th>\n",
       "      <th>likes</th>\n",
       "      <th>dislikes</th>\n",
       "      <th>comment_count</th>\n",
       "      <th>country</th>\n",
       "    </tr>\n",
       "  </thead>\n",
       "  <tbody>\n",
       "    <tr>\n",
       "      <th>0</th>\n",
       "      <td>1</td>\n",
       "      <td>Film &amp; Animation</td>\n",
       "      <td>November</td>\n",
       "      <td>2794165</td>\n",
       "      <td>8874</td>\n",
       "      <td>939</td>\n",
       "      <td>1439</td>\n",
       "      <td>United Kingdom</td>\n",
       "    </tr>\n",
       "    <tr>\n",
       "      <th>1</th>\n",
       "      <td>1</td>\n",
       "      <td>Film &amp; Animation</td>\n",
       "      <td>November</td>\n",
       "      <td>3037613</td>\n",
       "      <td>91393</td>\n",
       "      <td>2766</td>\n",
       "      <td>7176</td>\n",
       "      <td>United Kingdom</td>\n",
       "    </tr>\n",
       "    <tr>\n",
       "      <th>2</th>\n",
       "      <td>1</td>\n",
       "      <td>Film &amp; Animation</td>\n",
       "      <td>November</td>\n",
       "      <td>333552</td>\n",
       "      <td>13372</td>\n",
       "      <td>454</td>\n",
       "      <td>1010</td>\n",
       "      <td>United Kingdom</td>\n",
       "    </tr>\n",
       "    <tr>\n",
       "      <th>3</th>\n",
       "      <td>1</td>\n",
       "      <td>Film &amp; Animation</td>\n",
       "      <td>November</td>\n",
       "      <td>44921</td>\n",
       "      <td>688</td>\n",
       "      <td>19</td>\n",
       "      <td>0</td>\n",
       "      <td>United Kingdom</td>\n",
       "    </tr>\n",
       "    <tr>\n",
       "      <th>4</th>\n",
       "      <td>1</td>\n",
       "      <td>Film &amp; Animation</td>\n",
       "      <td>November</td>\n",
       "      <td>750287</td>\n",
       "      <td>8010</td>\n",
       "      <td>149</td>\n",
       "      <td>320</td>\n",
       "      <td>United Kingdom</td>\n",
       "    </tr>\n",
       "    <tr>\n",
       "      <th>...</th>\n",
       "      <td>...</td>\n",
       "      <td>...</td>\n",
       "      <td>...</td>\n",
       "      <td>...</td>\n",
       "      <td>...</td>\n",
       "      <td>...</td>\n",
       "      <td>...</td>\n",
       "      <td>...</td>\n",
       "    </tr>\n",
       "    <tr>\n",
       "      <th>38821</th>\n",
       "      <td>43</td>\n",
       "      <td>Shows</td>\n",
       "      <td>June</td>\n",
       "      <td>1664981</td>\n",
       "      <td>44245</td>\n",
       "      <td>357</td>\n",
       "      <td>4292</td>\n",
       "      <td>United Kingdom</td>\n",
       "    </tr>\n",
       "    <tr>\n",
       "      <th>38822</th>\n",
       "      <td>43</td>\n",
       "      <td>Shows</td>\n",
       "      <td>June</td>\n",
       "      <td>1673959</td>\n",
       "      <td>44316</td>\n",
       "      <td>357</td>\n",
       "      <td>4311</td>\n",
       "      <td>United Kingdom</td>\n",
       "    </tr>\n",
       "    <tr>\n",
       "      <th>38823</th>\n",
       "      <td>43</td>\n",
       "      <td>Shows</td>\n",
       "      <td>June</td>\n",
       "      <td>1686873</td>\n",
       "      <td>44434</td>\n",
       "      <td>360</td>\n",
       "      <td>4318</td>\n",
       "      <td>United Kingdom</td>\n",
       "    </tr>\n",
       "    <tr>\n",
       "      <th>38824</th>\n",
       "      <td>43</td>\n",
       "      <td>Shows</td>\n",
       "      <td>June</td>\n",
       "      <td>1699351</td>\n",
       "      <td>44506</td>\n",
       "      <td>361</td>\n",
       "      <td>4323</td>\n",
       "      <td>United Kingdom</td>\n",
       "    </tr>\n",
       "    <tr>\n",
       "      <th>38825</th>\n",
       "      <td>43</td>\n",
       "      <td>Shows</td>\n",
       "      <td>June</td>\n",
       "      <td>1709880</td>\n",
       "      <td>44588</td>\n",
       "      <td>360</td>\n",
       "      <td>4335</td>\n",
       "      <td>United Kingdom</td>\n",
       "    </tr>\n",
       "  </tbody>\n",
       "</table>\n",
       "<p>38826 rows × 8 columns</p>\n",
       "</div>"
      ],
      "text/plain": [
       "       category_id    category_title     month    views  likes  dislikes  \\\n",
       "0                1  Film & Animation  November  2794165   8874       939   \n",
       "1                1  Film & Animation  November  3037613  91393      2766   \n",
       "2                1  Film & Animation  November   333552  13372       454   \n",
       "3                1  Film & Animation  November    44921    688        19   \n",
       "4                1  Film & Animation  November   750287   8010       149   \n",
       "...            ...               ...       ...      ...    ...       ...   \n",
       "38821           43             Shows      June  1664981  44245       357   \n",
       "38822           43             Shows      June  1673959  44316       357   \n",
       "38823           43             Shows      June  1686873  44434       360   \n",
       "38824           43             Shows      June  1699351  44506       361   \n",
       "38825           43             Shows      June  1709880  44588       360   \n",
       "\n",
       "       comment_count         country  \n",
       "0               1439  United Kingdom  \n",
       "1               7176  United Kingdom  \n",
       "2               1010  United Kingdom  \n",
       "3                  0  United Kingdom  \n",
       "4                320  United Kingdom  \n",
       "...              ...             ...  \n",
       "38821           4292  United Kingdom  \n",
       "38822           4311  United Kingdom  \n",
       "38823           4318  United Kingdom  \n",
       "38824           4323  United Kingdom  \n",
       "38825           4335  United Kingdom  \n",
       "\n",
       "[38826 rows x 8 columns]"
      ]
     },
     "execution_count": 18,
     "metadata": {},
     "output_type": "execute_result"
    }
   ],
   "source": [
    "df_merge_categoryGB = pd.merge(df_categoryList_asint, df_GB1, on='category_id')\n",
    "df_merge_categoryGB"
   ]
  },
  {
   "cell_type": "code",
   "execution_count": 19,
   "metadata": {
    "execution": {
     "iopub.execute_input": "2020-04-12T02:36:10.512885Z",
     "iopub.status.busy": "2020-04-12T02:36:10.511778Z",
     "iopub.status.idle": "2020-04-12T02:36:11.512058Z",
     "shell.execute_reply": "2020-04-12T02:36:11.513054Z"
    },
    "papermill": {
     "duration": 1.037901,
     "end_time": "2020-04-12T02:36:11.513218",
     "exception": false,
     "start_time": "2020-04-12T02:36:10.475317",
     "status": "completed"
    },
    "tags": []
   },
   "outputs": [],
   "source": [
    "df_FR['month'] = df_FR.apply(lambda row: calendar.month_name[int(row.trending_date.split(\".\")[2])], axis=1)\n",
    "df_FR['country'] = 'France'\n",
    "df_FR1 = df_FR[['month', 'category_id', 'views', 'likes', 'dislikes', 'comment_count', 'country']]"
   ]
  },
  {
   "cell_type": "code",
   "execution_count": 20,
   "metadata": {
    "execution": {
     "iopub.execute_input": "2020-04-12T02:36:11.562599Z",
     "iopub.status.busy": "2020-04-12T02:36:11.561511Z",
     "iopub.status.idle": "2020-04-12T02:36:11.583930Z",
     "shell.execute_reply": "2020-04-12T02:36:11.584754Z"
    },
    "papermill": {
     "duration": 0.049734,
     "end_time": "2020-04-12T02:36:11.584900",
     "exception": false,
     "start_time": "2020-04-12T02:36:11.535166",
     "status": "completed"
    },
    "tags": []
   },
   "outputs": [
    {
     "data": {
      "text/html": [
       "<div>\n",
       "<style scoped>\n",
       "    .dataframe tbody tr th:only-of-type {\n",
       "        vertical-align: middle;\n",
       "    }\n",
       "\n",
       "    .dataframe tbody tr th {\n",
       "        vertical-align: top;\n",
       "    }\n",
       "\n",
       "    .dataframe thead th {\n",
       "        text-align: right;\n",
       "    }\n",
       "</style>\n",
       "<table border=\"1\" class=\"dataframe\">\n",
       "  <thead>\n",
       "    <tr style=\"text-align: right;\">\n",
       "      <th></th>\n",
       "      <th>category_id</th>\n",
       "      <th>category_title</th>\n",
       "      <th>month</th>\n",
       "      <th>views</th>\n",
       "      <th>likes</th>\n",
       "      <th>dislikes</th>\n",
       "      <th>comment_count</th>\n",
       "      <th>country</th>\n",
       "    </tr>\n",
       "  </thead>\n",
       "  <tbody>\n",
       "    <tr>\n",
       "      <th>0</th>\n",
       "      <td>1</td>\n",
       "      <td>Film &amp; Animation</td>\n",
       "      <td>November</td>\n",
       "      <td>102804</td>\n",
       "      <td>6306</td>\n",
       "      <td>179</td>\n",
       "      <td>421</td>\n",
       "      <td>France</td>\n",
       "    </tr>\n",
       "    <tr>\n",
       "      <th>1</th>\n",
       "      <td>1</td>\n",
       "      <td>Film &amp; Animation</td>\n",
       "      <td>November</td>\n",
       "      <td>48796</td>\n",
       "      <td>99</td>\n",
       "      <td>19</td>\n",
       "      <td>73</td>\n",
       "      <td>France</td>\n",
       "    </tr>\n",
       "    <tr>\n",
       "      <th>2</th>\n",
       "      <td>1</td>\n",
       "      <td>Film &amp; Animation</td>\n",
       "      <td>November</td>\n",
       "      <td>54031</td>\n",
       "      <td>227</td>\n",
       "      <td>35</td>\n",
       "      <td>72</td>\n",
       "      <td>France</td>\n",
       "    </tr>\n",
       "    <tr>\n",
       "      <th>3</th>\n",
       "      <td>1</td>\n",
       "      <td>Film &amp; Animation</td>\n",
       "      <td>November</td>\n",
       "      <td>123529</td>\n",
       "      <td>1370</td>\n",
       "      <td>180</td>\n",
       "      <td>255</td>\n",
       "      <td>France</td>\n",
       "    </tr>\n",
       "    <tr>\n",
       "      <th>4</th>\n",
       "      <td>1</td>\n",
       "      <td>Film &amp; Animation</td>\n",
       "      <td>November</td>\n",
       "      <td>6708</td>\n",
       "      <td>98</td>\n",
       "      <td>4</td>\n",
       "      <td>31</td>\n",
       "      <td>France</td>\n",
       "    </tr>\n",
       "    <tr>\n",
       "      <th>...</th>\n",
       "      <td>...</td>\n",
       "      <td>...</td>\n",
       "      <td>...</td>\n",
       "      <td>...</td>\n",
       "      <td>...</td>\n",
       "      <td>...</td>\n",
       "      <td>...</td>\n",
       "      <td>...</td>\n",
       "    </tr>\n",
       "    <tr>\n",
       "      <th>40605</th>\n",
       "      <td>43</td>\n",
       "      <td>Shows</td>\n",
       "      <td>June</td>\n",
       "      <td>613807</td>\n",
       "      <td>4058</td>\n",
       "      <td>1084</td>\n",
       "      <td>666</td>\n",
       "      <td>France</td>\n",
       "    </tr>\n",
       "    <tr>\n",
       "      <th>40606</th>\n",
       "      <td>43</td>\n",
       "      <td>Shows</td>\n",
       "      <td>June</td>\n",
       "      <td>565091</td>\n",
       "      <td>3581</td>\n",
       "      <td>1408</td>\n",
       "      <td>710</td>\n",
       "      <td>France</td>\n",
       "    </tr>\n",
       "    <tr>\n",
       "      <th>40607</th>\n",
       "      <td>43</td>\n",
       "      <td>Shows</td>\n",
       "      <td>June</td>\n",
       "      <td>720600</td>\n",
       "      <td>4303</td>\n",
       "      <td>709</td>\n",
       "      <td>627</td>\n",
       "      <td>France</td>\n",
       "    </tr>\n",
       "    <tr>\n",
       "      <th>40608</th>\n",
       "      <td>44</td>\n",
       "      <td>Trailers</td>\n",
       "      <td>May</td>\n",
       "      <td>3136</td>\n",
       "      <td>54</td>\n",
       "      <td>0</td>\n",
       "      <td>0</td>\n",
       "      <td>France</td>\n",
       "    </tr>\n",
       "    <tr>\n",
       "      <th>40609</th>\n",
       "      <td>44</td>\n",
       "      <td>Trailers</td>\n",
       "      <td>May</td>\n",
       "      <td>9804</td>\n",
       "      <td>138</td>\n",
       "      <td>9</td>\n",
       "      <td>0</td>\n",
       "      <td>France</td>\n",
       "    </tr>\n",
       "  </tbody>\n",
       "</table>\n",
       "<p>40610 rows × 8 columns</p>\n",
       "</div>"
      ],
      "text/plain": [
       "       category_id    category_title     month   views  likes  dislikes  \\\n",
       "0                1  Film & Animation  November  102804   6306       179   \n",
       "1                1  Film & Animation  November   48796     99        19   \n",
       "2                1  Film & Animation  November   54031    227        35   \n",
       "3                1  Film & Animation  November  123529   1370       180   \n",
       "4                1  Film & Animation  November    6708     98         4   \n",
       "...            ...               ...       ...     ...    ...       ...   \n",
       "40605           43             Shows      June  613807   4058      1084   \n",
       "40606           43             Shows      June  565091   3581      1408   \n",
       "40607           43             Shows      June  720600   4303       709   \n",
       "40608           44          Trailers       May    3136     54         0   \n",
       "40609           44          Trailers       May    9804    138         9   \n",
       "\n",
       "       comment_count country  \n",
       "0                421  France  \n",
       "1                 73  France  \n",
       "2                 72  France  \n",
       "3                255  France  \n",
       "4                 31  France  \n",
       "...              ...     ...  \n",
       "40605            666  France  \n",
       "40606            710  France  \n",
       "40607            627  France  \n",
       "40608              0  France  \n",
       "40609              0  France  \n",
       "\n",
       "[40610 rows x 8 columns]"
      ]
     },
     "execution_count": 20,
     "metadata": {},
     "output_type": "execute_result"
    }
   ],
   "source": [
    "df_merge_categoryFR = pd.merge(df_categoryList_asint, df_FR1, on='category_id')\n",
    "df_merge_categoryFR"
   ]
  },
  {
   "cell_type": "code",
   "execution_count": 21,
   "metadata": {
    "execution": {
     "iopub.execute_input": "2020-04-12T02:36:11.636605Z",
     "iopub.status.busy": "2020-04-12T02:36:11.635562Z",
     "iopub.status.idle": "2020-04-12T02:36:12.611918Z",
     "shell.execute_reply": "2020-04-12T02:36:12.612759Z"
    },
    "papermill": {
     "duration": 1.0053,
     "end_time": "2020-04-12T02:36:12.612913",
     "exception": false,
     "start_time": "2020-04-12T02:36:11.607613",
     "status": "completed"
    },
    "tags": []
   },
   "outputs": [],
   "source": [
    "df_DE['month'] = df_DE.apply(lambda row: calendar.month_name[int(row.trending_date.split(\".\")[2])], axis=1)\n",
    "df_DE['country'] = 'Denmark'\n",
    "df_DE1 = df_DE[['month', 'category_id', 'views', 'likes', 'dislikes', 'comment_count', 'country']]"
   ]
  },
  {
   "cell_type": "code",
   "execution_count": 22,
   "metadata": {
    "execution": {
     "iopub.execute_input": "2020-04-12T02:36:12.664351Z",
     "iopub.status.busy": "2020-04-12T02:36:12.663292Z",
     "iopub.status.idle": "2020-04-12T02:36:12.686055Z",
     "shell.execute_reply": "2020-04-12T02:36:12.686876Z"
    },
    "papermill": {
     "duration": 0.052033,
     "end_time": "2020-04-12T02:36:12.687023",
     "exception": false,
     "start_time": "2020-04-12T02:36:12.634990",
     "status": "completed"
    },
    "tags": []
   },
   "outputs": [
    {
     "data": {
      "text/html": [
       "<div>\n",
       "<style scoped>\n",
       "    .dataframe tbody tr th:only-of-type {\n",
       "        vertical-align: middle;\n",
       "    }\n",
       "\n",
       "    .dataframe tbody tr th {\n",
       "        vertical-align: top;\n",
       "    }\n",
       "\n",
       "    .dataframe thead th {\n",
       "        text-align: right;\n",
       "    }\n",
       "</style>\n",
       "<table border=\"1\" class=\"dataframe\">\n",
       "  <thead>\n",
       "    <tr style=\"text-align: right;\">\n",
       "      <th></th>\n",
       "      <th>category_id</th>\n",
       "      <th>category_title</th>\n",
       "      <th>month</th>\n",
       "      <th>views</th>\n",
       "      <th>likes</th>\n",
       "      <th>dislikes</th>\n",
       "      <th>comment_count</th>\n",
       "      <th>country</th>\n",
       "    </tr>\n",
       "  </thead>\n",
       "  <tbody>\n",
       "    <tr>\n",
       "      <th>0</th>\n",
       "      <td>1</td>\n",
       "      <td>Film &amp; Animation</td>\n",
       "      <td>November</td>\n",
       "      <td>62418</td>\n",
       "      <td>4749</td>\n",
       "      <td>44</td>\n",
       "      <td>425</td>\n",
       "      <td>Denmark</td>\n",
       "    </tr>\n",
       "    <tr>\n",
       "      <th>1</th>\n",
       "      <td>1</td>\n",
       "      <td>Film &amp; Animation</td>\n",
       "      <td>November</td>\n",
       "      <td>286684</td>\n",
       "      <td>27188</td>\n",
       "      <td>435</td>\n",
       "      <td>943</td>\n",
       "      <td>Denmark</td>\n",
       "    </tr>\n",
       "    <tr>\n",
       "      <th>2</th>\n",
       "      <td>1</td>\n",
       "      <td>Film &amp; Animation</td>\n",
       "      <td>November</td>\n",
       "      <td>149163</td>\n",
       "      <td>5452</td>\n",
       "      <td>97</td>\n",
       "      <td>280</td>\n",
       "      <td>Denmark</td>\n",
       "    </tr>\n",
       "    <tr>\n",
       "      <th>3</th>\n",
       "      <td>1</td>\n",
       "      <td>Film &amp; Animation</td>\n",
       "      <td>November</td>\n",
       "      <td>31154</td>\n",
       "      <td>2107</td>\n",
       "      <td>29</td>\n",
       "      <td>444</td>\n",
       "      <td>Denmark</td>\n",
       "    </tr>\n",
       "    <tr>\n",
       "      <th>4</th>\n",
       "      <td>1</td>\n",
       "      <td>Film &amp; Animation</td>\n",
       "      <td>November</td>\n",
       "      <td>123529</td>\n",
       "      <td>1370</td>\n",
       "      <td>180</td>\n",
       "      <td>255</td>\n",
       "      <td>Denmark</td>\n",
       "    </tr>\n",
       "    <tr>\n",
       "      <th>...</th>\n",
       "      <td>...</td>\n",
       "      <td>...</td>\n",
       "      <td>...</td>\n",
       "      <td>...</td>\n",
       "      <td>...</td>\n",
       "      <td>...</td>\n",
       "      <td>...</td>\n",
       "      <td>...</td>\n",
       "    </tr>\n",
       "    <tr>\n",
       "      <th>40579</th>\n",
       "      <td>43</td>\n",
       "      <td>Shows</td>\n",
       "      <td>June</td>\n",
       "      <td>628962</td>\n",
       "      <td>3436</td>\n",
       "      <td>1483</td>\n",
       "      <td>736</td>\n",
       "      <td>Denmark</td>\n",
       "    </tr>\n",
       "    <tr>\n",
       "      <th>40580</th>\n",
       "      <td>43</td>\n",
       "      <td>Shows</td>\n",
       "      <td>June</td>\n",
       "      <td>58703</td>\n",
       "      <td>340</td>\n",
       "      <td>174</td>\n",
       "      <td>0</td>\n",
       "      <td>Denmark</td>\n",
       "    </tr>\n",
       "    <tr>\n",
       "      <th>40581</th>\n",
       "      <td>43</td>\n",
       "      <td>Shows</td>\n",
       "      <td>June</td>\n",
       "      <td>565220</td>\n",
       "      <td>3669</td>\n",
       "      <td>1188</td>\n",
       "      <td>561</td>\n",
       "      <td>Denmark</td>\n",
       "    </tr>\n",
       "    <tr>\n",
       "      <th>40582</th>\n",
       "      <td>43</td>\n",
       "      <td>Shows</td>\n",
       "      <td>June</td>\n",
       "      <td>613807</td>\n",
       "      <td>4058</td>\n",
       "      <td>1084</td>\n",
       "      <td>666</td>\n",
       "      <td>Denmark</td>\n",
       "    </tr>\n",
       "    <tr>\n",
       "      <th>40583</th>\n",
       "      <td>44</td>\n",
       "      <td>Trailers</td>\n",
       "      <td>March</td>\n",
       "      <td>8804</td>\n",
       "      <td>0</td>\n",
       "      <td>0</td>\n",
       "      <td>0</td>\n",
       "      <td>Denmark</td>\n",
       "    </tr>\n",
       "  </tbody>\n",
       "</table>\n",
       "<p>40584 rows × 8 columns</p>\n",
       "</div>"
      ],
      "text/plain": [
       "       category_id    category_title     month   views  likes  dislikes  \\\n",
       "0                1  Film & Animation  November   62418   4749        44   \n",
       "1                1  Film & Animation  November  286684  27188       435   \n",
       "2                1  Film & Animation  November  149163   5452        97   \n",
       "3                1  Film & Animation  November   31154   2107        29   \n",
       "4                1  Film & Animation  November  123529   1370       180   \n",
       "...            ...               ...       ...     ...    ...       ...   \n",
       "40579           43             Shows      June  628962   3436      1483   \n",
       "40580           43             Shows      June   58703    340       174   \n",
       "40581           43             Shows      June  565220   3669      1188   \n",
       "40582           43             Shows      June  613807   4058      1084   \n",
       "40583           44          Trailers     March    8804      0         0   \n",
       "\n",
       "       comment_count  country  \n",
       "0                425  Denmark  \n",
       "1                943  Denmark  \n",
       "2                280  Denmark  \n",
       "3                444  Denmark  \n",
       "4                255  Denmark  \n",
       "...              ...      ...  \n",
       "40579            736  Denmark  \n",
       "40580              0  Denmark  \n",
       "40581            561  Denmark  \n",
       "40582            666  Denmark  \n",
       "40583              0  Denmark  \n",
       "\n",
       "[40584 rows x 8 columns]"
      ]
     },
     "execution_count": 22,
     "metadata": {},
     "output_type": "execute_result"
    }
   ],
   "source": [
    "df_merge_categoryDE = pd.merge(df_categoryList_asint, df_DE1, on='category_id')\n",
    "df_merge_categoryDE"
   ]
  },
  {
   "cell_type": "code",
   "execution_count": 23,
   "metadata": {
    "execution": {
     "iopub.execute_input": "2020-04-12T02:36:12.737384Z",
     "iopub.status.busy": "2020-04-12T02:36:12.736126Z",
     "iopub.status.idle": "2020-04-12T02:36:12.796658Z",
     "shell.execute_reply": "2020-04-12T02:36:12.797498Z"
    },
    "papermill": {
     "duration": 0.087677,
     "end_time": "2020-04-12T02:36:12.797654",
     "exception": false,
     "start_time": "2020-04-12T02:36:12.709977",
     "status": "completed"
    },
    "scrolled": true,
    "tags": []
   },
   "outputs": [
    {
     "data": {
      "text/html": [
       "<div>\n",
       "<style scoped>\n",
       "    .dataframe tbody tr th:only-of-type {\n",
       "        vertical-align: middle;\n",
       "    }\n",
       "\n",
       "    .dataframe tbody tr th {\n",
       "        vertical-align: top;\n",
       "    }\n",
       "\n",
       "    .dataframe thead th {\n",
       "        text-align: right;\n",
       "    }\n",
       "</style>\n",
       "<table border=\"1\" class=\"dataframe\">\n",
       "  <thead>\n",
       "    <tr style=\"text-align: right;\">\n",
       "      <th></th>\n",
       "      <th>category_id</th>\n",
       "      <th>category_title</th>\n",
       "      <th>month</th>\n",
       "      <th>views</th>\n",
       "      <th>likes</th>\n",
       "      <th>dislikes</th>\n",
       "      <th>comment_count</th>\n",
       "      <th>country</th>\n",
       "    </tr>\n",
       "  </thead>\n",
       "  <tbody>\n",
       "    <tr>\n",
       "      <th>0</th>\n",
       "      <td>1</td>\n",
       "      <td>Film &amp; Animation</td>\n",
       "      <td>November</td>\n",
       "      <td>62418</td>\n",
       "      <td>4749</td>\n",
       "      <td>44</td>\n",
       "      <td>425</td>\n",
       "      <td>Denmark</td>\n",
       "    </tr>\n",
       "    <tr>\n",
       "      <th>1</th>\n",
       "      <td>1</td>\n",
       "      <td>Film &amp; Animation</td>\n",
       "      <td>November</td>\n",
       "      <td>286684</td>\n",
       "      <td>27188</td>\n",
       "      <td>435</td>\n",
       "      <td>943</td>\n",
       "      <td>Denmark</td>\n",
       "    </tr>\n",
       "    <tr>\n",
       "      <th>2</th>\n",
       "      <td>1</td>\n",
       "      <td>Film &amp; Animation</td>\n",
       "      <td>November</td>\n",
       "      <td>149163</td>\n",
       "      <td>5452</td>\n",
       "      <td>97</td>\n",
       "      <td>280</td>\n",
       "      <td>Denmark</td>\n",
       "    </tr>\n",
       "    <tr>\n",
       "      <th>3</th>\n",
       "      <td>1</td>\n",
       "      <td>Film &amp; Animation</td>\n",
       "      <td>November</td>\n",
       "      <td>31154</td>\n",
       "      <td>2107</td>\n",
       "      <td>29</td>\n",
       "      <td>444</td>\n",
       "      <td>Denmark</td>\n",
       "    </tr>\n",
       "    <tr>\n",
       "      <th>4</th>\n",
       "      <td>1</td>\n",
       "      <td>Film &amp; Animation</td>\n",
       "      <td>November</td>\n",
       "      <td>123529</td>\n",
       "      <td>1370</td>\n",
       "      <td>180</td>\n",
       "      <td>255</td>\n",
       "      <td>Denmark</td>\n",
       "    </tr>\n",
       "    <tr>\n",
       "      <th>...</th>\n",
       "      <td>...</td>\n",
       "      <td>...</td>\n",
       "      <td>...</td>\n",
       "      <td>...</td>\n",
       "      <td>...</td>\n",
       "      <td>...</td>\n",
       "      <td>...</td>\n",
       "      <td>...</td>\n",
       "    </tr>\n",
       "    <tr>\n",
       "      <th>40605</th>\n",
       "      <td>43</td>\n",
       "      <td>Shows</td>\n",
       "      <td>June</td>\n",
       "      <td>613807</td>\n",
       "      <td>4058</td>\n",
       "      <td>1084</td>\n",
       "      <td>666</td>\n",
       "      <td>France</td>\n",
       "    </tr>\n",
       "    <tr>\n",
       "      <th>40606</th>\n",
       "      <td>43</td>\n",
       "      <td>Shows</td>\n",
       "      <td>June</td>\n",
       "      <td>565091</td>\n",
       "      <td>3581</td>\n",
       "      <td>1408</td>\n",
       "      <td>710</td>\n",
       "      <td>France</td>\n",
       "    </tr>\n",
       "    <tr>\n",
       "      <th>40607</th>\n",
       "      <td>43</td>\n",
       "      <td>Shows</td>\n",
       "      <td>June</td>\n",
       "      <td>720600</td>\n",
       "      <td>4303</td>\n",
       "      <td>709</td>\n",
       "      <td>627</td>\n",
       "      <td>France</td>\n",
       "    </tr>\n",
       "    <tr>\n",
       "      <th>40608</th>\n",
       "      <td>44</td>\n",
       "      <td>Trailers</td>\n",
       "      <td>May</td>\n",
       "      <td>3136</td>\n",
       "      <td>54</td>\n",
       "      <td>0</td>\n",
       "      <td>0</td>\n",
       "      <td>France</td>\n",
       "    </tr>\n",
       "    <tr>\n",
       "      <th>40609</th>\n",
       "      <td>44</td>\n",
       "      <td>Trailers</td>\n",
       "      <td>May</td>\n",
       "      <td>9804</td>\n",
       "      <td>138</td>\n",
       "      <td>9</td>\n",
       "      <td>0</td>\n",
       "      <td>France</td>\n",
       "    </tr>\n",
       "  </tbody>\n",
       "</table>\n",
       "<p>238966 rows × 8 columns</p>\n",
       "</div>"
      ],
      "text/plain": [
       "       category_id    category_title     month   views  likes  dislikes  \\\n",
       "0                1  Film & Animation  November   62418   4749        44   \n",
       "1                1  Film & Animation  November  286684  27188       435   \n",
       "2                1  Film & Animation  November  149163   5452        97   \n",
       "3                1  Film & Animation  November   31154   2107        29   \n",
       "4                1  Film & Animation  November  123529   1370       180   \n",
       "...            ...               ...       ...     ...    ...       ...   \n",
       "40605           43             Shows      June  613807   4058      1084   \n",
       "40606           43             Shows      June  565091   3581      1408   \n",
       "40607           43             Shows      June  720600   4303       709   \n",
       "40608           44          Trailers       May    3136     54         0   \n",
       "40609           44          Trailers       May    9804    138         9   \n",
       "\n",
       "       comment_count  country  \n",
       "0                425  Denmark  \n",
       "1                943  Denmark  \n",
       "2                280  Denmark  \n",
       "3                444  Denmark  \n",
       "4                255  Denmark  \n",
       "...              ...      ...  \n",
       "40605            666   France  \n",
       "40606            710   France  \n",
       "40607            627   France  \n",
       "40608              0   France  \n",
       "40609              0   France  \n",
       "\n",
       "[238966 rows x 8 columns]"
      ]
     },
     "execution_count": 23,
     "metadata": {},
     "output_type": "execute_result"
    }
   ],
   "source": [
    "pieces = [df_merge_categoryDE,df_merge_categoryIN,df_merge_categoryUS,df_merge_categoryCA,df_merge_categoryGB,df_merge_categoryFR]\n",
    "df_concatenated = pd.concat(pieces)\n",
    "df_concatenated"
   ]
  },
  {
   "cell_type": "code",
   "execution_count": 24,
   "metadata": {
    "execution": {
     "iopub.execute_input": "2020-04-12T02:36:12.848891Z",
     "iopub.status.busy": "2020-04-12T02:36:12.847639Z",
     "iopub.status.idle": "2020-04-12T02:36:12.850245Z",
     "shell.execute_reply": "2020-04-12T02:36:12.851083Z"
    },
    "papermill": {
     "duration": 0.029737,
     "end_time": "2020-04-12T02:36:12.851233",
     "exception": false,
     "start_time": "2020-04-12T02:36:12.821496",
     "status": "completed"
    },
    "tags": []
   },
   "outputs": [],
   "source": [
    "# df_concatenated.plot(x=\"category_title\", y=[\"likes\", \"dislikes\", \"comment_count\"], kind=\"bar\")\n",
    "# plt.show()"
   ]
  },
  {
   "cell_type": "code",
   "execution_count": 25,
   "metadata": {
    "execution": {
     "iopub.execute_input": "2020-04-12T02:36:12.901382Z",
     "iopub.status.busy": "2020-04-12T02:36:12.900074Z",
     "iopub.status.idle": "2020-04-12T02:36:12.902500Z",
     "shell.execute_reply": "2020-04-12T02:36:12.903357Z"
    },
    "papermill": {
     "duration": 0.029478,
     "end_time": "2020-04-12T02:36:12.903504",
     "exception": false,
     "start_time": "2020-04-12T02:36:12.874026",
     "status": "completed"
    },
    "tags": []
   },
   "outputs": [],
   "source": [
    "# df_concatenated['ratio'] = np.where(df_concatenated['dislikes'] == 0, 0, df_concatenated['likes']/df_concatenated['dislikes'])\n",
    "# df_concatenated"
   ]
  },
  {
   "cell_type": "code",
   "execution_count": 26,
   "metadata": {
    "execution": {
     "iopub.execute_input": "2020-04-12T02:36:12.958445Z",
     "iopub.status.busy": "2020-04-12T02:36:12.956649Z",
     "iopub.status.idle": "2020-04-12T02:36:12.959642Z",
     "shell.execute_reply": "2020-04-12T02:36:12.960479Z"
    },
    "papermill": {
     "duration": 0.030695,
     "end_time": "2020-04-12T02:36:12.960664",
     "exception": false,
     "start_time": "2020-04-12T02:36:12.929969",
     "status": "completed"
    },
    "tags": []
   },
   "outputs": [],
   "source": [
    "# df_likes_over_dislikes = df_concatenated.groupby(['country','category_title'])['ratio'].mean()\n",
    "# df_likes_over_dislikes"
   ]
  },
  {
   "cell_type": "code",
   "execution_count": 27,
   "metadata": {
    "execution": {
     "iopub.execute_input": "2020-04-12T02:36:13.011662Z",
     "iopub.status.busy": "2020-04-12T02:36:13.010414Z",
     "iopub.status.idle": "2020-04-12T02:36:13.012756Z",
     "shell.execute_reply": "2020-04-12T02:36:13.013570Z"
    },
    "papermill": {
     "duration": 0.03007,
     "end_time": "2020-04-12T02:36:13.013712",
     "exception": false,
     "start_time": "2020-04-12T02:36:12.983642",
     "status": "completed"
    },
    "tags": []
   },
   "outputs": [],
   "source": [
    "# df_concatenated.plot(kind='bar',x='country',y='likes',color='red')\n",
    "# plt.show()"
   ]
  },
  {
   "cell_type": "code",
   "execution_count": 28,
   "metadata": {
    "execution": {
     "iopub.execute_input": "2020-04-12T02:36:13.065133Z",
     "iopub.status.busy": "2020-04-12T02:36:13.064082Z",
     "iopub.status.idle": "2020-04-12T02:36:13.096171Z",
     "shell.execute_reply": "2020-04-12T02:36:13.097188Z"
    },
    "papermill": {
     "duration": 0.060599,
     "end_time": "2020-04-12T02:36:13.097359",
     "exception": false,
     "start_time": "2020-04-12T02:36:13.036760",
     "status": "completed"
    },
    "tags": []
   },
   "outputs": [],
   "source": [
    "df1_reduced = df_concatenated.filter(['likes', 'dislikes','views', 'country','category_title', 'comment_count'], axis=1)"
   ]
  },
  {
   "cell_type": "code",
   "execution_count": 29,
   "metadata": {
    "execution": {
     "iopub.execute_input": "2020-04-12T02:36:13.149614Z",
     "iopub.status.busy": "2020-04-12T02:36:13.148247Z",
     "iopub.status.idle": "2020-04-12T02:36:13.173025Z",
     "shell.execute_reply": "2020-04-12T02:36:13.173842Z"
    },
    "papermill": {
     "duration": 0.05356,
     "end_time": "2020-04-12T02:36:13.173992",
     "exception": false,
     "start_time": "2020-04-12T02:36:13.120432",
     "status": "completed"
    },
    "tags": []
   },
   "outputs": [
    {
     "name": "stderr",
     "output_type": "stream",
     "text": [
      "/Users/amishra/opt/anaconda3/envs/airflow/lib/python3.7/site-packages/ipykernel_launcher.py:1: FutureWarning: Indexing with multiple keys (implicitly converted to a tuple of keys) will be deprecated, use a list instead.\n",
      "  \"\"\"Entry point for launching an IPython kernel.\n"
     ]
    },
    {
     "data": {
      "text/html": [
       "<div>\n",
       "<style scoped>\n",
       "    .dataframe tbody tr th:only-of-type {\n",
       "        vertical-align: middle;\n",
       "    }\n",
       "\n",
       "    .dataframe tbody tr th {\n",
       "        vertical-align: top;\n",
       "    }\n",
       "\n",
       "    .dataframe thead th {\n",
       "        text-align: right;\n",
       "    }\n",
       "</style>\n",
       "<table border=\"1\" class=\"dataframe\">\n",
       "  <thead>\n",
       "    <tr style=\"text-align: right;\">\n",
       "      <th></th>\n",
       "      <th>likes</th>\n",
       "      <th>dislikes</th>\n",
       "    </tr>\n",
       "    <tr>\n",
       "      <th>country</th>\n",
       "      <th></th>\n",
       "      <th></th>\n",
       "    </tr>\n",
       "  </thead>\n",
       "  <tbody>\n",
       "    <tr>\n",
       "      <th>Canada</th>\n",
       "      <td>1607937265</td>\n",
       "      <td>79812112</td>\n",
       "    </tr>\n",
       "    <tr>\n",
       "      <th>Denmark</th>\n",
       "      <td>878794585</td>\n",
       "      <td>53052539</td>\n",
       "    </tr>\n",
       "    <tr>\n",
       "      <th>France</th>\n",
       "      <td>702156706</td>\n",
       "      <td>31957415</td>\n",
       "    </tr>\n",
       "    <tr>\n",
       "      <th>India</th>\n",
       "      <td>1011375558</td>\n",
       "      <td>62185412</td>\n",
       "    </tr>\n",
       "    <tr>\n",
       "      <th>United Kingdom</th>\n",
       "      <td>5210510328</td>\n",
       "      <td>290813530</td>\n",
       "    </tr>\n",
       "    <tr>\n",
       "      <th>United States</th>\n",
       "      <td>3026331552</td>\n",
       "      <td>148667774</td>\n",
       "    </tr>\n",
       "  </tbody>\n",
       "</table>\n",
       "</div>"
      ],
      "text/plain": [
       "                     likes   dislikes\n",
       "country                              \n",
       "Canada          1607937265   79812112\n",
       "Denmark          878794585   53052539\n",
       "France           702156706   31957415\n",
       "India           1011375558   62185412\n",
       "United Kingdom  5210510328  290813530\n",
       "United States   3026331552  148667774"
      ]
     },
     "execution_count": 29,
     "metadata": {},
     "output_type": "execute_result"
    }
   ],
   "source": [
    "df_grouped = df1_reduced.groupby('country')['likes','dislikes'].sum()\n",
    "df_grouped\n",
    "\n",
    "# df1.plot(x=\"country\", y=[\"likes\", \"dislikes\"], kind=\"bar\")"
   ]
  },
  {
   "cell_type": "code",
   "execution_count": 30,
   "metadata": {
    "execution": {
     "iopub.execute_input": "2020-04-12T02:36:13.226948Z",
     "iopub.status.busy": "2020-04-12T02:36:13.225926Z",
     "iopub.status.idle": "2020-04-12T02:36:13.402850Z",
     "shell.execute_reply": "2020-04-12T02:36:13.403686Z"
    },
    "papermill": {
     "duration": 0.205949,
     "end_time": "2020-04-12T02:36:13.403843",
     "exception": false,
     "start_time": "2020-04-12T02:36:13.197894",
     "status": "completed"
    },
    "scrolled": true,
    "tags": []
   },
   "outputs": [
    {
     "data": {
      "text/plain": [
       "Text(0, 0.5, 'Likes/Dislikes')"
      ]
     },
     "execution_count": 30,
     "metadata": {},
     "output_type": "execute_result"
    },
    {
     "data": {
      "image/png": "[encoded data removed]",
      "text/plain": [
       "<Figure size 576x288 with 1 Axes>"
      ]
     },
     "metadata": {
      "needs_background": "light"
     },
     "output_type": "display_data"
    }
   ],
   "source": [
    "fig, ax = plt.subplots(figsize=(8,4))\n",
    "df_grouped.plot(kind='barh',ax=ax)\n",
    "ax.set_xlabel('Country')\n",
    "ax.set_ylabel('Likes/Dislikes')"
   ]
  },
  {
   "cell_type": "code",
   "execution_count": 31,
   "metadata": {
    "execution": {
     "iopub.execute_input": "2020-04-12T02:36:13.485643Z",
     "iopub.status.busy": "2020-04-12T02:36:13.483330Z",
     "iopub.status.idle": "2020-04-12T02:36:14.014236Z",
     "shell.execute_reply": "2020-04-12T02:36:14.015096Z"
    },
    "papermill": {
     "duration": 0.579169,
     "end_time": "2020-04-12T02:36:14.015263",
     "exception": false,
     "start_time": "2020-04-12T02:36:13.436094",
     "status": "completed"
    },
    "tags": []
   },
   "outputs": [],
   "source": [
    "report_name = \"/Users/amishra/DEV/AirflowProject/youtube_analysis_likes_\" + str(date.today().strftime(\"%Y%m%d\"))\n",
    "fig.savefig(report_name, dpi=300, bbox_inches='tight')"
   ]
  },
  {
   "cell_type": "code",
   "execution_count": 32,
   "metadata": {
    "execution": {
     "iopub.execute_input": "2020-04-12T02:36:14.079242Z",
     "iopub.status.busy": "2020-04-12T02:36:14.077534Z",
     "iopub.status.idle": "2020-04-12T02:36:14.099995Z",
     "shell.execute_reply": "2020-04-12T02:36:14.100853Z"
    },
    "papermill": {
     "duration": 0.057026,
     "end_time": "2020-04-12T02:36:14.101008",
     "exception": false,
     "start_time": "2020-04-12T02:36:14.043982",
     "status": "completed"
    },
    "tags": []
   },
   "outputs": [
    {
     "name": "stderr",
     "output_type": "stream",
     "text": [
      "/Users/amishra/opt/anaconda3/envs/airflow/lib/python3.7/site-packages/ipykernel_launcher.py:1: FutureWarning: Indexing with multiple keys (implicitly converted to a tuple of keys) will be deprecated, use a list instead.\n",
      "  \"\"\"Entry point for launching an IPython kernel.\n"
     ]
    },
    {
     "data": {
      "text/html": [
       "<div>\n",
       "<style scoped>\n",
       "    .dataframe tbody tr th:only-of-type {\n",
       "        vertical-align: middle;\n",
       "    }\n",
       "\n",
       "    .dataframe tbody tr th {\n",
       "        vertical-align: top;\n",
       "    }\n",
       "\n",
       "    .dataframe thead th {\n",
       "        text-align: right;\n",
       "    }\n",
       "</style>\n",
       "<table border=\"1\" class=\"dataframe\">\n",
       "  <thead>\n",
       "    <tr style=\"text-align: right;\">\n",
       "      <th></th>\n",
       "      <th>likes</th>\n",
       "      <th>dislikes</th>\n",
       "    </tr>\n",
       "    <tr>\n",
       "      <th>category_title</th>\n",
       "      <th></th>\n",
       "      <th></th>\n",
       "    </tr>\n",
       "  </thead>\n",
       "  <tbody>\n",
       "    <tr>\n",
       "      <th>Autos &amp; Vehicles</th>\n",
       "      <td>20811096</td>\n",
       "      <td>979224</td>\n",
       "    </tr>\n",
       "    <tr>\n",
       "      <th>Comedy</th>\n",
       "      <td>935473131</td>\n",
       "      <td>30159084</td>\n",
       "    </tr>\n",
       "    <tr>\n",
       "      <th>Education</th>\n",
       "      <td>111088716</td>\n",
       "      <td>3420767</td>\n",
       "    </tr>\n",
       "    <tr>\n",
       "      <th>Entertainment</th>\n",
       "      <td>2444170624</td>\n",
       "      <td>217151438</td>\n",
       "    </tr>\n",
       "    <tr>\n",
       "      <th>Film &amp; Animation</th>\n",
       "      <td>530406633</td>\n",
       "      <td>22652042</td>\n",
       "    </tr>\n",
       "    <tr>\n",
       "      <th>Gaming</th>\n",
       "      <td>248969136</td>\n",
       "      <td>17359338</td>\n",
       "    </tr>\n",
       "    <tr>\n",
       "      <th>Howto &amp; Style</th>\n",
       "      <td>303934248</td>\n",
       "      <td>11054249</td>\n",
       "    </tr>\n",
       "    <tr>\n",
       "      <th>Movies</th>\n",
       "      <td>1003685</td>\n",
       "      <td>50104</td>\n",
       "    </tr>\n",
       "    <tr>\n",
       "      <th>Music</th>\n",
       "      <td>6556219002</td>\n",
       "      <td>270435932</td>\n",
       "    </tr>\n",
       "    <tr>\n",
       "      <th>News &amp; Politics</th>\n",
       "      <td>120747013</td>\n",
       "      <td>17107498</td>\n",
       "    </tr>\n",
       "    <tr>\n",
       "      <th>People &amp; Blogs</th>\n",
       "      <td>540443304</td>\n",
       "      <td>39704523</td>\n",
       "    </tr>\n",
       "    <tr>\n",
       "      <th>Pets &amp; Animals</th>\n",
       "      <td>48538847</td>\n",
       "      <td>1211440</td>\n",
       "    </tr>\n",
       "    <tr>\n",
       "      <th>Science &amp; Technology</th>\n",
       "      <td>212502438</td>\n",
       "      <td>10125230</td>\n",
       "    </tr>\n",
       "    <tr>\n",
       "      <th>Shows</th>\n",
       "      <td>3966187</td>\n",
       "      <td>580237</td>\n",
       "    </tr>\n",
       "    <tr>\n",
       "      <th>Sports</th>\n",
       "      <td>347540086</td>\n",
       "      <td>23950565</td>\n",
       "    </tr>\n",
       "    <tr>\n",
       "      <th>Trailers</th>\n",
       "      <td>192</td>\n",
       "      <td>9</td>\n",
       "    </tr>\n",
       "    <tr>\n",
       "      <th>Travel &amp; Events</th>\n",
       "      <td>11291656</td>\n",
       "      <td>547102</td>\n",
       "    </tr>\n",
       "  </tbody>\n",
       "</table>\n",
       "</div>"
      ],
      "text/plain": [
       "                           likes   dislikes\n",
       "category_title                             \n",
       "Autos & Vehicles        20811096     979224\n",
       "Comedy                 935473131   30159084\n",
       "Education              111088716    3420767\n",
       "Entertainment         2444170624  217151438\n",
       "Film & Animation       530406633   22652042\n",
       "Gaming                 248969136   17359338\n",
       "Howto & Style          303934248   11054249\n",
       "Movies                   1003685      50104\n",
       "Music                 6556219002  270435932\n",
       "News & Politics        120747013   17107498\n",
       "People & Blogs         540443304   39704523\n",
       "Pets & Animals          48538847    1211440\n",
       "Science & Technology   212502438   10125230\n",
       "Shows                    3966187     580237\n",
       "Sports                 347540086   23950565\n",
       "Trailers                     192          9\n",
       "Travel & Events         11291656     547102"
      ]
     },
     "execution_count": 32,
     "metadata": {},
     "output_type": "execute_result"
    }
   ],
   "source": [
    "df_grouped1 = df1_reduced.groupby('category_title')['likes','dislikes'].sum()\n",
    "df_grouped1"
   ]
  },
  {
   "cell_type": "code",
   "execution_count": 33,
   "metadata": {
    "execution": {
     "iopub.execute_input": "2020-04-12T02:36:14.164281Z",
     "iopub.status.busy": "2020-04-12T02:36:14.160866Z",
     "iopub.status.idle": "2020-04-12T02:36:14.380319Z",
     "shell.execute_reply": "2020-04-12T02:36:14.381160Z"
    },
    "papermill": {
     "duration": 0.254352,
     "end_time": "2020-04-12T02:36:14.381311",
     "exception": false,
     "start_time": "2020-04-12T02:36:14.126959",
     "status": "completed"
    },
    "tags": []
   },
   "outputs": [
    {
     "data": {
      "text/plain": [
       "Text(0, 0.5, 'Likes/Dislikes')"
      ]
     },
     "execution_count": 33,
     "metadata": {},
     "output_type": "execute_result"
    },
    {
     "data": {
      "image/png": "[encoded data removed]",
      "text/plain": [
       "<Figure size 576x288 with 1 Axes>"
      ]
     },
     "metadata": {
      "needs_background": "light"
     },
     "output_type": "display_data"
    }
   ],
   "source": [
    "fig, ax = plt.subplots(figsize=(8,4))\n",
    "df_grouped1.plot(kind='barh',ax=ax)\n",
    "ax.set_xlabel('Category_title')\n",
    "ax.set_ylabel('Likes/Dislikes')\n"
   ]
  },
  {
   "cell_type": "code",
   "execution_count": 34,
   "metadata": {
    "execution": {
     "iopub.execute_input": "2020-04-12T02:36:14.463247Z",
     "iopub.status.busy": "2020-04-12T02:36:14.457952Z",
     "iopub.status.idle": "2020-04-12T02:36:15.050246Z",
     "shell.execute_reply": "2020-04-12T02:36:15.051097Z"
    },
    "papermill": {
     "duration": 0.642863,
     "end_time": "2020-04-12T02:36:15.051253",
     "exception": false,
     "start_time": "2020-04-12T02:36:14.408390",
     "status": "completed"
    },
    "tags": []
   },
   "outputs": [],
   "source": [
    "report_name = \"/Users/amishra/DEV/AirflowProject/report/youtube_analysis_category_likes_\" + str(date.today().strftime(\"%Y%m%d\"))\n",
    "fig.savefig(report_name, dpi=300, bbox_inches='tight')"
   ]
  },
  {
   "cell_type": "code",
   "execution_count": 35,
   "metadata": {
    "execution": {
     "iopub.execute_input": "2020-04-12T02:36:15.112991Z",
     "iopub.status.busy": "2020-04-12T02:36:15.111970Z",
     "iopub.status.idle": "2020-04-12T02:36:15.128996Z",
     "shell.execute_reply": "2020-04-12T02:36:15.129825Z"
    },
    "papermill": {
     "duration": 0.051871,
     "end_time": "2020-04-12T02:36:15.129976",
     "exception": false,
     "start_time": "2020-04-12T02:36:15.078105",
     "status": "completed"
    },
    "tags": []
   },
   "outputs": [
    {
     "data": {
      "text/plain": [
       "country\n",
       "Canada            40807\n",
       "Denmark           40584\n",
       "France            40610\n",
       "India             37247\n",
       "United Kingdom    38826\n",
       "United States     40892\n",
       "Name: category_title, dtype: int64"
      ]
     },
     "execution_count": 35,
     "metadata": {},
     "output_type": "execute_result"
    }
   ],
   "source": [
    "df2 = df1_reduced.groupby('country')['category_title'].count()\n",
    "df2"
   ]
  },
  {
   "cell_type": "code",
   "execution_count": 36,
   "metadata": {
    "execution": {
     "iopub.execute_input": "2020-04-12T02:36:15.202995Z",
     "iopub.status.busy": "2020-04-12T02:36:15.201360Z",
     "iopub.status.idle": "2020-04-12T02:36:15.262222Z",
     "shell.execute_reply": "2020-04-12T02:36:15.263049Z"
    },
    "papermill": {
     "duration": 0.102984,
     "end_time": "2020-04-12T02:36:15.263199",
     "exception": false,
     "start_time": "2020-04-12T02:36:15.160215",
     "status": "completed"
    },
    "tags": []
   },
   "outputs": [
    {
     "data": {
      "text/plain": [
       "Text(0, 0.5, 'category_title')"
      ]
     },
     "execution_count": 36,
     "metadata": {},
     "output_type": "execute_result"
    },
    {
     "data": {
      "image/png": "[encoded data removed]",
      "text/plain": [
       "<Figure size 576x288 with 1 Axes>"
      ]
     },
     "metadata": {},
     "output_type": "display_data"
    }
   ],
   "source": [
    "fig, ax = plt.subplots(figsize=(8,4))\n",
    "df2.plot(kind='pie',ax=ax)\n",
    "ax.set_xlabel('country')\n",
    "ax.set_ylabel('category_title')\n"
   ]
  },
  {
   "cell_type": "code",
   "execution_count": 37,
   "metadata": {
    "execution": {
     "iopub.execute_input": "2020-04-12T02:36:15.404355Z",
     "iopub.status.busy": "2020-04-12T02:36:15.402791Z",
     "iopub.status.idle": "2020-04-12T02:36:15.666608Z",
     "shell.execute_reply": "2020-04-12T02:36:15.667635Z"
    },
    "papermill": {
     "duration": 0.373789,
     "end_time": "2020-04-12T02:36:15.667801",
     "exception": false,
     "start_time": "2020-04-12T02:36:15.294012",
     "status": "completed"
    },
    "tags": []
   },
   "outputs": [],
   "source": [
    "report_name = \"/Users/amishra/DEV/AirflowProject/report/category_country_\" + str(date.today().strftime(\"%Y%m%d\"))\n",
    "fig.savefig(report_name, dpi=300, bbox_inches='tight')"
   ]
  },
  {
   "cell_type": "code",
   "execution_count": 38,
   "metadata": {
    "execution": {
     "iopub.execute_input": "2020-04-12T02:36:15.731357Z",
     "iopub.status.busy": "2020-04-12T02:36:15.730283Z",
     "iopub.status.idle": "2020-04-12T02:36:15.742227Z",
     "shell.execute_reply": "2020-04-12T02:36:15.743060Z"
    },
    "papermill": {
     "duration": 0.047338,
     "end_time": "2020-04-12T02:36:15.743210",
     "exception": false,
     "start_time": "2020-04-12T02:36:15.695872",
     "status": "completed"
    },
    "tags": []
   },
   "outputs": [
    {
     "data": {
      "text/plain": [
       "category_title\n",
       "Autos & Vehicles          1191203153\n",
       "Comedy                   19214042009\n",
       "Education                 2566838759\n",
       "Entertainment            92064416642\n",
       "Film & Animation         25108776049\n",
       "Gaming                    6520609277\n",
       "Howto & Style             8634558283\n",
       "Movies                      70259728\n",
       "Music                   245334769806\n",
       "News & Politics           7832754385\n",
       "People & Blogs           18738268524\n",
       "Pets & Animals            1681882649\n",
       "Science & Technology      8065799956\n",
       "Shows                      393883758\n",
       "Sports                   16058797531\n",
       "Trailers                       21744\n",
       "Travel & Events            650426123\n",
       "Name: views, dtype: int64"
      ]
     },
     "execution_count": 38,
     "metadata": {},
     "output_type": "execute_result"
    }
   ],
   "source": [
    "df_views = df1_reduced.groupby('category_title')['views'].sum()\n",
    "df_views"
   ]
  },
  {
   "cell_type": "code",
   "execution_count": 39,
   "metadata": {
    "execution": {
     "iopub.execute_input": "2020-04-12T02:36:15.858289Z",
     "iopub.status.busy": "2020-04-12T02:36:15.856521Z",
     "iopub.status.idle": "2020-04-12T02:36:16.035942Z",
     "shell.execute_reply": "2020-04-12T02:36:16.035006Z"
    },
    "papermill": {
     "duration": 0.265338,
     "end_time": "2020-04-12T02:36:16.036087",
     "exception": false,
     "start_time": "2020-04-12T02:36:15.770749",
     "status": "completed"
    },
    "tags": []
   },
   "outputs": [
    {
     "data": {
      "text/plain": [
       "Text(0, 0.5, 'views')"
      ]
     },
     "execution_count": 39,
     "metadata": {},
     "output_type": "execute_result"
    },
    {
     "data": {
      "image/png": "[encoded data removed]",
      "text/plain": [
       "<Figure size 576x288 with 1 Axes>"
      ]
     },
     "metadata": {
      "needs_background": "light"
     },
     "output_type": "display_data"
    }
   ],
   "source": [
    "fig, ax = plt.subplots(figsize=(8,4))\n",
    "df_views.plot(kind='bar',ax=ax)\n",
    "ax.set_xlabel('category_title')\n",
    "ax.set_ylabel('views')\n"
   ]
  },
  {
   "cell_type": "code",
   "execution_count": 40,
   "metadata": {
    "execution": {
     "iopub.execute_input": "2020-04-12T02:36:16.120776Z",
     "iopub.status.busy": "2020-04-12T02:36:16.102299Z",
     "iopub.status.idle": "2020-04-12T02:36:16.777731Z",
     "shell.execute_reply": "2020-04-12T02:36:16.778825Z"
    },
    "papermill": {
     "duration": 0.713459,
     "end_time": "2020-04-12T02:36:16.779016",
     "exception": false,
     "start_time": "2020-04-12T02:36:16.065557",
     "status": "completed"
    },
    "tags": []
   },
   "outputs": [],
   "source": [
    "report_name = \"/Users/amishra/DEV/AirflowProject/report/category_views_\" + str(date.today().strftime(\"%Y%m%d\"))\n",
    "fig.savefig(report_name, dpi=300, bbox_inches='tight')"
   ]
  },
  {
   "cell_type": "code",
   "execution_count": 41,
   "metadata": {
    "execution": {
     "iopub.execute_input": "2020-04-12T02:36:16.848392Z",
     "iopub.status.busy": "2020-04-12T02:36:16.847263Z",
     "iopub.status.idle": "2020-04-12T02:36:16.862526Z",
     "shell.execute_reply": "2020-04-12T02:36:16.861624Z"
    },
    "papermill": {
     "duration": 0.048109,
     "end_time": "2020-04-12T02:36:16.862660",
     "exception": false,
     "start_time": "2020-04-12T02:36:16.814551",
     "status": "completed"
    },
    "tags": []
   },
   "outputs": [
    {
     "data": {
      "text/plain": [
       "country\n",
       "Canada             46776373446\n",
       "Denmark            24485953077\n",
       "France             17041407308\n",
       "India              39604345873\n",
       "United Kingdom    229716399912\n",
       "United States      96502828760\n",
       "Name: views, dtype: int64"
      ]
     },
     "execution_count": 41,
     "metadata": {},
     "output_type": "execute_result"
    }
   ],
   "source": [
    "df_views1 = df1_reduced.groupby('country')['views'].sum()\n",
    "df_views1"
   ]
  },
  {
   "cell_type": "code",
   "execution_count": 42,
   "metadata": {
    "execution": {
     "iopub.execute_input": "2020-04-12T02:36:16.930375Z",
     "iopub.status.busy": "2020-04-12T02:36:16.929244Z",
     "iopub.status.idle": "2020-04-12T02:36:17.110695Z",
     "shell.execute_reply": "2020-04-12T02:36:17.111538Z"
    },
    "papermill": {
     "duration": 0.220263,
     "end_time": "2020-04-12T02:36:17.111692",
     "exception": false,
     "start_time": "2020-04-12T02:36:16.891429",
     "status": "completed"
    },
    "tags": []
   },
   "outputs": [
    {
     "data": {
      "text/plain": [
       "Text(0, 0.5, 'views')"
      ]
     },
     "execution_count": 42,
     "metadata": {},
     "output_type": "execute_result"
    },
    {
     "data": {
      "image/png": "[encoded data removed]",
      "text/plain": [
       "<Figure size 576x288 with 1 Axes>"
      ]
     },
     "metadata": {
      "needs_background": "light"
     },
     "output_type": "display_data"
    }
   ],
   "source": [
    "fig, ax = plt.subplots(figsize=(8,4))\n",
    "df_views.plot(kind='bar',ax=ax)\n",
    "ax.set_xlabel('country')\n",
    "ax.set_ylabel('views')\n"
   ]
  },
  {
   "cell_type": "code",
   "execution_count": 43,
   "metadata": {
    "execution": {
     "iopub.execute_input": "2020-04-12T02:36:17.199910Z",
     "iopub.status.busy": "2020-04-12T02:36:17.198320Z",
     "iopub.status.idle": "2020-04-12T02:36:17.839269Z",
     "shell.execute_reply": "2020-04-12T02:36:17.840290Z"
    },
    "papermill": {
     "duration": 0.699033,
     "end_time": "2020-04-12T02:36:17.840456",
     "exception": false,
     "start_time": "2020-04-12T02:36:17.141423",
     "status": "completed"
    },
    "tags": []
   },
   "outputs": [],
   "source": [
    "report_name = \"/Users/amishra/DEV/AirflowProject/report/country_views_\" + str(date.today().strftime(\"%Y%m%d\"))\n",
    "fig.savefig(report_name, dpi=300, bbox_inches='tight')"
   ]
  },
  {
   "cell_type": "code",
   "execution_count": 44,
   "metadata": {
    "execution": {
     "iopub.execute_input": "2020-04-12T02:36:17.912298Z",
     "iopub.status.busy": "2020-04-12T02:36:17.910692Z",
     "iopub.status.idle": "2020-04-12T02:36:17.925863Z",
     "shell.execute_reply": "2020-04-12T02:36:17.926761Z"
    },
    "papermill": {
     "duration": 0.05537,
     "end_time": "2020-04-12T02:36:17.926911",
     "exception": false,
     "start_time": "2020-04-12T02:36:17.871541",
     "status": "completed"
    },
    "tags": []
   },
   "outputs": [
    {
     "data": {
      "text/plain": [
       "country\n",
       "Canada            202939308\n",
       "Denmark           109893659\n",
       "France             72776211\n",
       "India              99978364\n",
       "United Kingdom    501673561\n",
       "United States     341079367\n",
       "Name: comment_count, dtype: int64"
      ]
     },
     "execution_count": 44,
     "metadata": {},
     "output_type": "execute_result"
    }
   ],
   "source": [
    "df_comment_count = df1_reduced.groupby('country')['comment_count'].sum()\n",
    "df_comment_count"
   ]
  },
  {
   "cell_type": "code",
   "execution_count": 45,
   "metadata": {
    "execution": {
     "iopub.execute_input": "2020-04-12T02:36:18.001036Z",
     "iopub.status.busy": "2020-04-12T02:36:17.999330Z",
     "iopub.status.idle": "2020-04-12T02:36:18.115107Z",
     "shell.execute_reply": "2020-04-12T02:36:18.115936Z"
    },
    "papermill": {
     "duration": 0.156025,
     "end_time": "2020-04-12T02:36:18.116088",
     "exception": false,
     "start_time": "2020-04-12T02:36:17.960063",
     "status": "completed"
    },
    "tags": []
   },
   "outputs": [
    {
     "data": {
      "text/plain": [
       "Text(0, 0.5, 'comment_count')"
      ]
     },
     "execution_count": 45,
     "metadata": {},
     "output_type": "execute_result"
    },
    {
     "data": {
      "image/png": "[encoded data removed]",
      "text/plain": [
       "<Figure size 576x288 with 1 Axes>"
      ]
     },
     "metadata": {
      "needs_background": "light"
     },
     "output_type": "display_data"
    }
   ],
   "source": [
    "fig, ax = plt.subplots(figsize=(8,4))\n",
    "df_comment_count.plot(kind='barh',ax=ax)\n",
    "ax.set_xlabel('country')\n",
    "ax.set_ylabel('comment_count')\n"
   ]
  },
  {
   "cell_type": "code",
   "execution_count": 46,
   "metadata": {
    "execution": {
     "iopub.execute_input": "2020-04-12T02:36:18.190207Z",
     "iopub.status.busy": "2020-04-12T02:36:18.189135Z",
     "iopub.status.idle": "2020-04-12T02:36:18.662485Z",
     "shell.execute_reply": "2020-04-12T02:36:18.660959Z"
    },
    "papermill": {
     "duration": 0.516032,
     "end_time": "2020-04-12T02:36:18.662948",
     "exception": false,
     "start_time": "2020-04-12T02:36:18.146916",
     "status": "completed"
    },
    "tags": []
   },
   "outputs": [],
   "source": [
    "report_name = \"/Users/amishra/DEV/AirflowProject/report/country_commentCount_\" + str(date.today().strftime(\"%Y%m%d\"))\n",
    "fig.savefig(report_name, dpi=300, bbox_inches='tight')"
   ]
  },
  {
   "cell_type": "code",
   "execution_count": 47,
   "metadata": {
    "execution": {
     "iopub.execute_input": "2020-04-12T02:36:18.737357Z",
     "iopub.status.busy": "2020-04-12T02:36:18.735647Z",
     "iopub.status.idle": "2020-04-12T02:36:18.753811Z",
     "shell.execute_reply": "2020-04-12T02:36:18.754929Z"
    },
    "papermill": {
     "duration": 0.058137,
     "end_time": "2020-04-12T02:36:18.755124",
     "exception": false,
     "start_time": "2020-04-12T02:36:18.696987",
     "status": "completed"
    },
    "tags": []
   },
   "outputs": [
    {
     "data": {
      "text/plain": [
       "category_title\n",
       "Autos & Vehicles          3257344\n",
       "Comedy                   90698925\n",
       "Education                12647380\n",
       "Entertainment           340193588\n",
       "Film & Animation         57582056\n",
       "Gaming                   38947871\n",
       "Howto & Style            43140068\n",
       "Movies                      55636\n",
       "Music                   543407983\n",
       "News & Politics          33632592\n",
       "People & Blogs           75995320\n",
       "Pets & Animals            6779425\n",
       "Science & Technology     39261853\n",
       "Shows                      470471\n",
       "Sports                   40423205\n",
       "Trailers                        0\n",
       "Travel & Events           1846753\n",
       "Name: comment_count, dtype: int64"
      ]
     },
     "execution_count": 47,
     "metadata": {},
     "output_type": "execute_result"
    }
   ],
   "source": [
    "df_comment_count1 = df1_reduced.groupby('category_title')['comment_count'].sum()\n",
    "df_comment_count1"
   ]
  },
  {
   "cell_type": "code",
   "execution_count": 48,
   "metadata": {
    "execution": {
     "iopub.execute_input": "2020-04-12T02:36:18.837450Z",
     "iopub.status.busy": "2020-04-12T02:36:18.835676Z",
     "iopub.status.idle": "2020-04-12T02:36:19.035601Z",
     "shell.execute_reply": "2020-04-12T02:36:19.036516Z"
    },
    "papermill": {
     "duration": 0.248541,
     "end_time": "2020-04-12T02:36:19.036673",
     "exception": false,
     "start_time": "2020-04-12T02:36:18.788132",
     "status": "completed"
    },
    "tags": []
   },
   "outputs": [
    {
     "data": {
      "text/plain": [
       "Text(0, 0.5, 'comment_count')"
      ]
     },
     "execution_count": 48,
     "metadata": {},
     "output_type": "execute_result"
    },
    {
     "data": {
      "image/png": "[encoded data removed]",
      "text/plain": [
       "<Figure size 576x288 with 1 Axes>"
      ]
     },
     "metadata": {
      "needs_background": "light"
     },
     "output_type": "display_data"
    }
   ],
   "source": [
    "fig, ax = plt.subplots(figsize=(8,4))\n",
    "df_comment_count1.plot(kind='bar',ax=ax)\n",
    "ax.set_xlabel('category_title')\n",
    "ax.set_ylabel('comment_count')\n"
   ]
  },
  {
   "cell_type": "code",
   "execution_count": 49,
   "metadata": {
    "execution": {
     "iopub.execute_input": "2020-04-12T02:36:19.128628Z",
     "iopub.status.busy": "2020-04-12T02:36:19.127583Z",
     "iopub.status.idle": "2020-04-12T02:36:19.793034Z",
     "shell.execute_reply": "2020-04-12T02:36:19.793911Z"
    },
    "papermill": {
     "duration": 0.724282,
     "end_time": "2020-04-12T02:36:19.794112",
     "exception": false,
     "start_time": "2020-04-12T02:36:19.069830",
     "status": "completed"
    },
    "tags": []
   },
   "outputs": [],
   "source": [
    "report_name = \"/Users/amishra/DEV/AirflowProject/report/category_commentCount_\" + str(date.today().strftime(\"%Y%m%d\"))\n",
    "fig.savefig(report_name, dpi=300, bbox_inches='tight')"
   ]
  },
  {
   "cell_type": "code",
   "execution_count": null,
   "metadata": {
    "papermill": {
     "duration": 0.041608,
     "end_time": "2020-04-12T02:36:19.874121",
     "exception": false,
     "start_time": "2020-04-12T02:36:19.832513",
     "status": "completed"
    },
    "tags": []
   },
   "outputs": [],
   "source": []
  }
 ],
 "metadata": {
  "celltoolbar": "Tags",
  "kernelspec": {
   "display_name": "Python 3",
   "language": "python",
   "name": "python3"
  },
  "language_info": {
   "codemirror_mode": {
    "name": "ipython",
    "version": 3
   },
   "file_extension": ".py",
   "mimetype": "text/x-python",
   "name": "python",
   "nbconvert_exporter": "python",
   "pygments_lexer": "ipython3",
   "version": "3.7.7"
  },
  "papermill": {
   "duration": 29.023188,
   "end_time": "2020-04-12T02:36:20.020935",
   "environment_variables": {},
   "exception": null,
   "input_path": "/Users/amishra/DEV/AirflowProject/YTAnalysis.ipynb",
   "output_path": "/Users/amishra/DEV/AirflowProject/YTAnalysis-Out.ipynb",
   "parameters": {
    "root_path": "/Users/amishra/DEV/DataEngineering.Labs.AirflowProject/DataEngg-Airflow/"
   },
   "start_time": "2020-04-12T02:35:50.997747",
   "version": "2.1.0"
  }
 },
 "nbformat": 4,
 "nbformat_minor": 2
}